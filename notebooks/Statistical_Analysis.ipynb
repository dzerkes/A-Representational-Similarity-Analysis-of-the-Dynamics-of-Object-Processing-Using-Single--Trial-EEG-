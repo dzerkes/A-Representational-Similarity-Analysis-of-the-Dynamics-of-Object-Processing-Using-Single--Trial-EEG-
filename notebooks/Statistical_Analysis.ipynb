{
 "cells": [
  {
   "cell_type": "code",
   "execution_count": 1,
   "metadata": {},
   "outputs": [],
   "source": [
    "import numpy as np\n",
    "import pandas as pd\n",
    "import math"
   ]
  },
  {
   "cell_type": "markdown",
   "metadata": {},
   "source": [
    "1 : 6 classes  \n",
    "2 : 12 classes - HF  \n",
    "3 : 12 classes - IO  \n",
    "4 : HF vs IO  \n",
    "5 : 72 exemplars\n",
    "\n",
    "P1 <-> Partic 9  \n",
    "P2 <-> Partic 2  \n",
    "P3 <-> Partic 1  \n",
    "P4 <-> Partic 4  \n",
    "P5 <-> Partic 3"
   ]
  },
  {
   "cell_type": "markdown",
   "metadata": {},
   "source": [
    "## 6 CLASSES"
   ]
  },
  {
   "cell_type": "code",
   "execution_count": 2,
   "metadata": {},
   "outputs": [
    {
     "data": {
      "text/plain": [
       "array([15.583, 18.245, 27.002, 36.26 , 34.967, 31.186, 25.825, 23.376,\n",
       "       19.905])"
      ]
     },
     "execution_count": 2,
     "metadata": {},
     "output_type": "execute_result"
    }
   ],
   "source": [
    "# participant 1\n",
    "p1_fa_1 = 37.995/100\n",
    "\n",
    "p1_tmp_str_1 = \"Final Accuracy of time window 0-4 is: 15.583%\\\n",
    "Final Accuracy of time window 3-7 is: 18.245%\\\n",
    "Final Accuracy of time window 6-10 is: 27.002%\\\n",
    "Final Accuracy of time window 9-13 is: 36.260%\\\n",
    "Final Accuracy of time window 12-16 is: 34.967%\\\n",
    "Final Accuracy of time window 15-19 is: 31.186%\\\n",
    "Final Accuracy of time window 18-22 is: 25.825%\\\n",
    "Final Accuracy of time window 21-25 is: 23.376%\\\n",
    "Final Accuracy of time window 24-28 is: 19.905%\"\n",
    "\n",
    "p1_tmp_1 = np.zeros(9)\n",
    "\n",
    "p1_tmp_str_1.split(\"%\")[:-1]\n",
    "\n",
    "for i in range(len(p1_tmp_str_1.split(\"%\")[:-1])):\n",
    "    p1_tmp_1[i] = float(p1_tmp_str_1.split(\"%\")[:-1][i].split(\":\")[1])\n",
    "    \n",
    "p1_tmp_1"
   ]
  },
  {
   "cell_type": "code",
   "execution_count": 3,
   "metadata": {},
   "outputs": [
    {
     "data": {
      "text/plain": [
       "array([17.184, 17.936, 27.387, 31.456, 29.508, 30.396, 26.48 , 22.18 ,\n",
       "       23.105])"
      ]
     },
     "execution_count": 3,
     "metadata": {},
     "output_type": "execute_result"
    }
   ],
   "source": [
    "# participant 2\n",
    "p2_fa_1 = 35.816/100\n",
    "\n",
    "p2_tmp_str_1 = \"Final Accuracy of time window 0-4 is: 17.184%\\\n",
    "Final Accuracy of time window 3-7 is: 17.936%\\\n",
    "Final Accuracy of time window 6-10 is: 27.387%\\\n",
    "Final Accuracy of time window 9-13 is: 31.456%\\\n",
    "Final Accuracy of time window 12-16 is: 29.508%\\\n",
    "Final Accuracy of time window 15-19 is: 30.396%\\\n",
    "Final Accuracy of time window 18-22 is: 26.480%\\\n",
    "Final Accuracy of time window 21-25 is: 22.180%\\\n",
    "Final Accuracy of time window 24-28 is: 23.105%\"\n",
    "\n",
    "p2_tmp_1 = np.zeros(9)\n",
    "\n",
    "p2_tmp_str_1.split(\"%\")[:-1]\n",
    "\n",
    "for i in range(len(p2_tmp_str_1.split(\"%\")[:-1])):\n",
    "    p2_tmp_1[i] = float(p2_tmp_str_1.split(\"%\")[:-1][i].split(\":\")[1])\n",
    "    \n",
    "p2_tmp_1"
   ]
  },
  {
   "cell_type": "code",
   "execution_count": 4,
   "metadata": {},
   "outputs": [
    {
     "data": {
      "text/plain": [
       "array([15.69 , 19.083, 27.66 , 35.139, 35.64 , 32.921, 29.432, 26.021,\n",
       "       26.157])"
      ]
     },
     "execution_count": 4,
     "metadata": {},
     "output_type": "execute_result"
    }
   ],
   "source": [
    "# participant 3\n",
    "p3_fa_1 = 38.821/100\n",
    "\n",
    "p3_tmp_str_1 = \"Final Accuracy of time window 0-4 is: 15.690%\\\n",
    "Final Accuracy of time window 3-7 is: 19.083%\\\n",
    "Final Accuracy of time window 6-10 is: 27.660%\\\n",
    "Final Accuracy of time window 9-13 is: 35.139%\\\n",
    "Final Accuracy of time window 12-16 is: 35.640%\\\n",
    "Final Accuracy of time window 15-19 is: 32.921%\\\n",
    "Final Accuracy of time window 18-22 is: 29.432%\\\n",
    "Final Accuracy of time window 21-25 is: 26.021%\\\n",
    "Final Accuracy of time window 24-28 is: 26.157%\"\n",
    "\n",
    "p3_tmp_1 = np.zeros(9)\n",
    "\n",
    "p3_tmp_str_1.split(\"%\")[:-1]\n",
    "\n",
    "for i in range(len(p3_tmp_str_1.split(\"%\")[:-1])):\n",
    "    p3_tmp_1[i] = float(p3_tmp_str_1.split(\"%\")[:-1][i].split(\":\")[1])\n",
    "    \n",
    "p3_tmp_1"
   ]
  },
  {
   "cell_type": "code",
   "execution_count": 5,
   "metadata": {},
   "outputs": [
    {
     "data": {
      "text/plain": [
       "array([16.834, 18.666, 28.442, 35.134, 34.285, 32.625, 27.998, 23.043,\n",
       "       21.307])"
      ]
     },
     "execution_count": 5,
     "metadata": {},
     "output_type": "execute_result"
    }
   ],
   "source": [
    "# participant 4\n",
    "p4_fa_1 = 35.229/100\n",
    "\n",
    "p4_tmp_str_1 = \"Final Accuracy of time window 0-4 is: 16.834%\\\n",
    "Final Accuracy of time window 3-7 is: 18.666%\\\n",
    "Final Accuracy of time window 6-10 is: 28.442%\\\n",
    "Final Accuracy of time window 9-13 is: 35.134%\\\n",
    "Final Accuracy of time window 12-16 is: 34.285%\\\n",
    "Final Accuracy of time window 15-19 is: 32.625%\\\n",
    "Final Accuracy of time window 18-22 is: 27.998%\\\n",
    "Final Accuracy of time window 21-25 is: 23.043%\\\n",
    "Final Accuracy of time window 24-28 is: 21.307%\"\n",
    "\n",
    "p4_tmp_1 = np.zeros(9)\n",
    "\n",
    "p4_tmp_str_1.split(\"%\")[:-1]\n",
    "\n",
    "for i in range(len(p4_tmp_str_1.split(\"%\")[:-1])):\n",
    "    p4_tmp_1[i] = float(p4_tmp_str_1.split(\"%\")[:-1][i].split(\":\")[1])\n",
    "    \n",
    "p4_tmp_1"
   ]
  },
  {
   "cell_type": "code",
   "execution_count": 6,
   "metadata": {},
   "outputs": [
    {
     "data": {
      "text/plain": [
       "array([16.776, 18.762, 29.696, 35.866, 35.982, 34.574, 31.565, 28.576,\n",
       "       30.524])"
      ]
     },
     "execution_count": 6,
     "metadata": {},
     "output_type": "execute_result"
    }
   ],
   "source": [
    "# participant 5\n",
    "p5_fa_1 = 39.452/100\n",
    "\n",
    "p5_tmp_str_1 = \"Final Accuracy of time window 0-4 is: 16.776%\\\n",
    "Final Accuracy of time window 3-7 is: 18.762%\\\n",
    "Final Accuracy of time window 6-10 is: 29.696%\\\n",
    "Final Accuracy of time window 9-13 is: 35.866%\\\n",
    "Final Accuracy of time window 12-16 is: 35.982%\\\n",
    "Final Accuracy of time window 15-19 is: 34.574%\\\n",
    "Final Accuracy of time window 18-22 is: 31.565%\\\n",
    "Final Accuracy of time window 21-25 is: 28.576%\\\n",
    "Final Accuracy of time window 24-28 is: 30.524%\"\n",
    "\n",
    "p5_tmp_1 = np.zeros(9)\n",
    "\n",
    "p5_tmp_str_1.split(\"%\")[:-1]\n",
    "\n",
    "for i in range(len(p5_tmp_str_1.split(\"%\")[:-1])):\n",
    "    p5_tmp_1[i] = float(p5_tmp_str_1.split(\"%\")[:-1][i].split(\":\")[1])\n",
    "    \n",
    "p5_tmp_1"
   ]
  },
  {
   "cell_type": "markdown",
   "metadata": {},
   "source": [
    "## 12 CLASSES - HF"
   ]
  },
  {
   "cell_type": "code",
   "execution_count": 7,
   "metadata": {},
   "outputs": [
    {
     "data": {
      "text/plain": [
       "array([ 7.398,  9.253,  9.381, 12.858, 11.815, 10.067,  9.721,  9.719,\n",
       "       10.767])"
      ]
     },
     "execution_count": 7,
     "metadata": {},
     "output_type": "execute_result"
    }
   ],
   "source": [
    "# participant 1\n",
    "p1_fa_2 = 12.037/100\n",
    "\n",
    "p1_tmp_str_2 = \"Final Accuracy of time window 0-4 is:7.398%\\\n",
    "Final Accuracy of time window 3-7 is: 9.253%\\\n",
    "Final Accuracy of time window 6-10 is: 9.381%\\\n",
    "Final Accuracy of time window 9-13 is: 12.858%\\\n",
    "Final Accuracy of time window 12-16 is: 11.815%\\\n",
    "Final Accuracy of time window 15-19 is: 10.067%\\\n",
    "Final Accuracy of time window 18-22 is: 9.721%\\\n",
    "Final Accuracy of time window 21-25 is: 9.719%\\\n",
    "Final Accuracy of time window 24-28 is: 10.767%\"\n",
    "\n",
    "p1_tmp_2 = np.zeros(9)\n",
    "\n",
    "p1_tmp_str_2.split(\"%\")[:-1]\n",
    "\n",
    "for i in range(len(p1_tmp_str_2.split(\"%\")[:-1])):\n",
    "    p1_tmp_2[i] = float(p1_tmp_str_2.split(\"%\")[:-1][i].split(\":\")[1])\n",
    "    \n",
    "p1_tmp_2"
   ]
  },
  {
   "cell_type": "code",
   "execution_count": 8,
   "metadata": {},
   "outputs": [
    {
     "data": {
      "text/plain": [
       "array([ 8.57 ,  6.713, 13.206, 18.049, 13.43 , 12.264, 12.273,  9.841,\n",
       "       11.455])"
      ]
     },
     "execution_count": 8,
     "metadata": {},
     "output_type": "execute_result"
    }
   ],
   "source": [
    "# participant 2\n",
    "p2_fa_2 = 13.998/100\n",
    "\n",
    "p2_tmp_str_2 = \"Final Accuracy of time window 0-4 is: 8.570%\\\n",
    "Final Accuracy of time window 3-7 is: 6.713%\\\n",
    "Final Accuracy of time window 6-10 is: 13.206%\\\n",
    "Final Accuracy of time window 9-13 is: 18.049%\\\n",
    "Final Accuracy of time window 12-16 is: 13.430%\\\n",
    "Final Accuracy of time window 15-19 is: 12.264%\\\n",
    "Final Accuracy of time window 18-22 is: 12.273%\\\n",
    "Final Accuracy of time window 21-25 is: 9.841%\\\n",
    "Final Accuracy of time window 24-28 is: 11.455%\"\n",
    "\n",
    "p2_tmp_2 = np.zeros(9)\n",
    "\n",
    "p2_tmp_str_2.split(\"%\")[:-1]\n",
    "\n",
    "for i in range(len(p2_tmp_str_2.split(\"%\")[:-1])):\n",
    "    p2_tmp_2[i] = float(p2_tmp_str_2.split(\"%\")[:-1][i].split(\":\")[1])\n",
    "    \n",
    "p2_tmp_2"
   ]
  },
  {
   "cell_type": "code",
   "execution_count": 9,
   "metadata": {},
   "outputs": [
    {
     "data": {
      "text/plain": [
       "array([11.569,  8.79 , 14.245, 17.248, 15.499, 15.275, 13.305, 14.125,\n",
       "       12.503])"
      ]
     },
     "execution_count": 9,
     "metadata": {},
     "output_type": "execute_result"
    }
   ],
   "source": [
    "# participant 3\n",
    "p3_fa_2 = 17.485/100\n",
    "\n",
    "p3_tmp_str_2 = \"Final Accuracy of time window 0-4 is: 11.569%\\\n",
    "Final Accuracy of time window 3-7 is: 8.790%\\\n",
    "Final Accuracy of time window 6-10 is: 14.245%\\\n",
    "Final Accuracy of time window 9-13 is: 17.248%\\\n",
    "Final Accuracy of time window 12-16 is: 15.499%\\\n",
    "Final Accuracy of time window 15-19 is: 15.275%\\\n",
    "Final Accuracy of time window 18-22 is: 13.305%\\\n",
    "Final Accuracy of time window 21-25 is: 14.125%\\\n",
    "Final Accuracy of time window 24-28 is: 12.503%\"\n",
    "\n",
    "p3_tmp_2 = np.zeros(9)\n",
    "\n",
    "p3_tmp_str_2.split(\"%\")[:-1]\n",
    "\n",
    "for i in range(len(p3_tmp_str_2.split(\"%\")[:-1])):\n",
    "    p3_tmp_2[i] = float(p3_tmp_str_2.split(\"%\")[:-1][i].split(\":\")[1])\n",
    "    \n",
    "p3_tmp_2"
   ]
  },
  {
   "cell_type": "code",
   "execution_count": 10,
   "metadata": {},
   "outputs": [
    {
     "data": {
      "text/plain": [
       "array([ 6.82 ,  9.383, 10.878, 14.353, 15.754, 11.561, 10.774,  9.735,\n",
       "       10.061])"
      ]
     },
     "execution_count": 10,
     "metadata": {},
     "output_type": "execute_result"
    }
   ],
   "source": [
    "# participant 4\n",
    "p4_fa_2 = 14.012/100\n",
    "\n",
    "p4_tmp_str_2 = \"Final Accuracy of time window 0-4 is: 6.820%\\\n",
    "Final Accuracy of time window 3-7 is: 9.383%\\\n",
    "Final Accuracy of time window 6-10 is: 10.878%\\\n",
    "Final Accuracy of time window 9-13 is: 14.353%\\\n",
    "Final Accuracy of time window 12-16 is: 15.754%\\\n",
    "Final Accuracy of time window 15-19 is: 11.561%\\\n",
    "Final Accuracy of time window 18-22 is: 10.774%\\\n",
    "Final Accuracy of time window 21-25 is: 9.735%\\\n",
    "Final Accuracy of time window 24-28 is: 10.061%\"\n",
    "\n",
    "p4_tmp_2 = np.zeros(9)\n",
    "\n",
    "p4_tmp_str_2.split(\"%\")[:-1]\n",
    "\n",
    "for i in range(len(p4_tmp_str_2.split(\"%\")[:-1])):\n",
    "    p4_tmp_2[i] = float(p4_tmp_str_2.split(\"%\")[:-1][i].split(\":\")[1])\n",
    "    \n",
    "p4_tmp_2"
   ]
  },
  {
   "cell_type": "code",
   "execution_count": 11,
   "metadata": {},
   "outputs": [
    {
     "data": {
      "text/plain": [
       "array([ 8.561,  9.477, 10.74 , 16.188, 17.233, 14.574, 14.912, 13.291,\n",
       "        9.829])"
      ]
     },
     "execution_count": 11,
     "metadata": {},
     "output_type": "execute_result"
    }
   ],
   "source": [
    "# participant 5\n",
    "p5_fa_2 = 16.423/100\n",
    "\n",
    "p5_tmp_str_2 = \"Final Accuracy of time window 0-4 is: 8.561%\\\n",
    "Final Accuracy of time window 3-7 is: 9.477%\\\n",
    "Final Accuracy of time window 6-10 is: 10.740%\\\n",
    "Final Accuracy of time window 9-13 is: 16.188%\\\n",
    "Final Accuracy of time window 12-16 is: 17.233%\\\n",
    "Final Accuracy of time window 15-19 is: 14.574%\\\n",
    "Final Accuracy of time window 18-22 is: 14.912%\\\n",
    "Final Accuracy of time window 21-25 is: 13.291%\\\n",
    "Final Accuracy of time window 24-28 is: 9.829%\"\n",
    "\n",
    "p5_tmp_2 = np.zeros(9)\n",
    "\n",
    "p5_tmp_str_2.split(\"%\")[:-1]\n",
    "\n",
    "for i in range(len(p5_tmp_str_2.split(\"%\")[:-1])):\n",
    "    p5_tmp_2[i] = float(p5_tmp_str_2.split(\"%\")[:-1][i].split(\":\")[1])\n",
    "    \n",
    "p5_tmp_2"
   ]
  },
  {
   "cell_type": "markdown",
   "metadata": {},
   "source": [
    "## 12 CLASSES - IO\n"
   ]
  },
  {
   "cell_type": "code",
   "execution_count": 12,
   "metadata": {},
   "outputs": [
    {
     "data": {
      "text/plain": [
       "array([ 9.268, 11.001, 15.273, 17.597, 15.5  , 16.08 , 13.07 , 12.037,\n",
       "       10.64 ])"
      ]
     },
     "execution_count": 12,
     "metadata": {},
     "output_type": "execute_result"
    }
   ],
   "source": [
    "# participant 1\n",
    "p1_fa_3 = 26/100\n",
    "\n",
    "p1_tmp_str_3 = \"Final Accuracy of time window 0-4 is: 9.268%\\\n",
    "Final Accuracy of time window 3-7 is: 11.001%\\\n",
    "Final Accuracy of time window 6-10 is: 15.273%\\\n",
    "Final Accuracy of time window 9-13 is: 17.597%\\\n",
    "Final Accuracy of time window 12-16 is: 15.500%\\\n",
    "Final Accuracy of time window 15-19 is: 16.080%\\\n",
    "Final Accuracy of time window 18-22 is: 13.070%\\\n",
    "Final Accuracy of time window 21-25 is: 12.037%\\\n",
    "Final Accuracy of time window 24-28 is: 10.640%\"\n",
    "\n",
    "p1_tmp_3 = np.zeros(9)\n",
    "\n",
    "p1_tmp_str_3.split(\"%\")[:-1]\n",
    "\n",
    "for i in range(len(p1_tmp_str_3.split(\"%\")[:-1])):\n",
    "    p1_tmp_3[i] = float(p1_tmp_str_3.split(\"%\")[:-1][i].split(\":\")[1])\n",
    "    \n",
    "p1_tmp_3"
   ]
  },
  {
   "cell_type": "code",
   "execution_count": 13,
   "metadata": {},
   "outputs": [
    {
     "data": {
      "text/plain": [
       "array([ 8.115,  9.141, 15.744, 19.092, 18.276, 20.487, 14.227, 11.918,\n",
       "       12.261])"
      ]
     },
     "execution_count": 13,
     "metadata": {},
     "output_type": "execute_result"
    }
   ],
   "source": [
    "# participant 2\n",
    "p2_fa_3 = 26.840/100\n",
    "\n",
    "p2_tmp_str_3 = \"Final Accuracy of time window 0-4 is: 8.115%\\\n",
    "Final Accuracy of time window 3-7 is: 9.141%\\\n",
    "Final Accuracy of time window 6-10 is: 15.744%\\\n",
    "Final Accuracy of time window 9-13 is: 19.092%\\\n",
    "Final Accuracy of time window 12-16 is: 18.276%\\\n",
    "Final Accuracy of time window 15-19 is: 20.487%\\\n",
    "Final Accuracy of time window 18-22 is: 14.227%\\\n",
    "Final Accuracy of time window 21-25 is: 11.918%\\\n",
    "Final Accuracy of time window 24-28 is: 12.261%\"\n",
    "\n",
    "p2_tmp_3 = np.zeros(9)\n",
    "\n",
    "p2_tmp_str_3.split(\"%\")[:-1]\n",
    "\n",
    "for i in range(len(p2_tmp_str_3.split(\"%\")[:-1])):\n",
    "    p2_tmp_3[i] = float(p2_tmp_str_3.split(\"%\")[:-1][i].split(\":\")[1])\n",
    "    \n",
    "p2_tmp_3"
   ]
  },
  {
   "cell_type": "code",
   "execution_count": 14,
   "metadata": {},
   "outputs": [
    {
     "data": {
      "text/plain": [
       "array([ 7.874,  9.484, 20.493, 24.187, 30.104, 31.486, 22.58 , 21.069,\n",
       "       15.045])"
      ]
     },
     "execution_count": 14,
     "metadata": {},
     "output_type": "execute_result"
    }
   ],
   "source": [
    "# participant 3\n",
    "p3_fa_3 = 35.992/100\n",
    "\n",
    "p3_tmp_str_3 = \"Final Accuracy of time window 0-4 is: 7.874%\\\n",
    "Final Accuracy of time window 3-7 is: 9.484%\\\n",
    "Final Accuracy of time window 6-10 is: 20.493%\\\n",
    "Final Accuracy of time window 9-13 is: 24.187%\\\n",
    "Final Accuracy of time window 12-16 is: 30.104%\\\n",
    "Final Accuracy of time window 15-19 is: 31.486%\\\n",
    "Final Accuracy of time window 18-22 is: 22.580%\\\n",
    "Final Accuracy of time window 21-25 is: 21.069%\\\n",
    "Final Accuracy of time window 24-28 is: 15.045%\"\n",
    "\n",
    "p3_tmp_3 = np.zeros(9)\n",
    "\n",
    "p3_tmp_str_3.split(\"%\")[:-1]\n",
    "\n",
    "for i in range(len(p3_tmp_str_3.split(\"%\")[:-1])):\n",
    "    p3_tmp_3[i] = float(p3_tmp_str_3.split(\"%\")[:-1][i].split(\":\")[1])\n",
    "    \n",
    "p3_tmp_3"
   ]
  },
  {
   "cell_type": "code",
   "execution_count": 15,
   "metadata": {},
   "outputs": [
    {
     "data": {
      "text/plain": [
       "array([ 8.103,  8.681, 12.955, 11.799, 16.545, 15.275, 15.739, 11.466,\n",
       "       11.925])"
      ]
     },
     "execution_count": 15,
     "metadata": {},
     "output_type": "execute_result"
    }
   ],
   "source": [
    "# participant 4\n",
    "p4_fa_3 = 18.173/100\n",
    "\n",
    "p4_tmp_str_3 = \"Final Accuracy of time window 0-4 is: 8.103%\\\n",
    "Final Accuracy of time window 3-7 is: 8.681%\\\n",
    "Final Accuracy of time window 6-10 is: 12.955%\\\n",
    "Final Accuracy of time window 9-13 is: 11.799%\\\n",
    "Final Accuracy of time window 12-16 is: 16.545%\\\n",
    "Final Accuracy of time window 15-19 is: 15.275%\\\n",
    "Final Accuracy of time window 18-22 is: 15.739%\\\n",
    "Final Accuracy of time window 21-25 is: 11.466%\\\n",
    "Final Accuracy of time window 24-28 is: 11.925%\"\n",
    "\n",
    "p4_tmp_3 = np.zeros(9)\n",
    "\n",
    "p4_tmp_str_3.split(\"%\")[:-1]\n",
    "\n",
    "for i in range(len(p4_tmp_str_3.split(\"%\")[:-1])):\n",
    "    p4_tmp_3[i] = float(p4_tmp_str_3.split(\"%\")[:-1][i].split(\":\")[1])\n",
    "    \n",
    "p4_tmp_3"
   ]
  },
  {
   "cell_type": "code",
   "execution_count": 16,
   "metadata": {},
   "outputs": [
    {
     "data": {
      "text/plain": [
       "array([ 8.341, 10.303, 18.867, 27.08 , 27.43 , 27.521, 17.711, 14.006,\n",
       "       13.095])"
      ]
     },
     "execution_count": 16,
     "metadata": {},
     "output_type": "execute_result"
    }
   ],
   "source": [
    "# participant 5\n",
    "p5_fa_3 = 29.052/100\n",
    "\n",
    "p5_tmp_str_3 = \"Final Accuracy of time window 0-4 is: 8.341%\\\n",
    "Final Accuracy of time window 3-7 is: 10.303%\\\n",
    "Final Accuracy of time window 6-10 is: 18.867%\\\n",
    "Final Accuracy of time window 9-13 is: 27.080%\\\n",
    "Final Accuracy of time window 12-16 is: 27.430%\\\n",
    "Final Accuracy of time window 15-19 is: 27.521%\\\n",
    "Final Accuracy of time window 18-22 is: 17.711%\\\n",
    "Final Accuracy of time window 21-25 is: 14.006%\\\n",
    "Final Accuracy of time window 24-28 is: 13.095%\"\n",
    "\n",
    "p5_tmp_3 = np.zeros(9)\n",
    "\n",
    "p5_tmp_str_3.split(\"%\")[:-1]\n",
    "\n",
    "for i in range(len(p5_tmp_str_3.split(\"%\")[:-1])):\n",
    "    p5_tmp_3[i] = float(p5_tmp_str_3.split(\"%\")[:-1][i].split(\":\")[1])\n",
    "    \n",
    "p5_tmp_3"
   ]
  },
  {
   "cell_type": "markdown",
   "metadata": {},
   "source": [
    "## 2 CLASSES - HF vs IO "
   ]
  },
  {
   "cell_type": "code",
   "execution_count": 17,
   "metadata": {},
   "outputs": [
    {
     "data": {
      "text/plain": [
       "array([49.071, 55.902, 70.716, 78.356, 74.477, 70.543, 60.586, 58.792,\n",
       "       56.83 ])"
      ]
     },
     "execution_count": 17,
     "metadata": {},
     "output_type": "execute_result"
    }
   ],
   "source": [
    "# participant 1\n",
    "p1_fa_4 = 78.531/100\n",
    "\n",
    "p1_tmp_str_4 = \"Final Accuracy of time window 0-4 is: 49.071%\\\n",
    "Final Accuracy of time window 3-7 is: 55.902%\\\n",
    "Final Accuracy of time window 6-10 is: 70.716%\\\n",
    "Final Accuracy of time window 9-13 is: 78.356%\\\n",
    "Final Accuracy of time window 12-16 is: 74.477%\\\n",
    "Final Accuracy of time window 15-19 is: 70.543%\\\n",
    "Final Accuracy of time window 18-22 is: 60.586%\\\n",
    "Final Accuracy of time window 21-25 is: 58.792%\\\n",
    "Final Accuracy of time window 24-28 is: 56.830%\"\n",
    "\n",
    "p1_tmp_4 = np.zeros(9)\n",
    "\n",
    "p1_tmp_str_4.split(\"%\")[:-1]\n",
    "\n",
    "for i in range(len(p1_tmp_str_4.split(\"%\")[:-1])):\n",
    "    p1_tmp_4[i] = float(p1_tmp_str_4.split(\"%\")[:-1][i].split(\":\")[1])\n",
    "    \n",
    "p1_tmp_4"
   ]
  },
  {
   "cell_type": "code",
   "execution_count": 18,
   "metadata": {},
   "outputs": [
    {
     "data": {
      "text/plain": [
       "array([52.082, 55.963, 71.354, 76.21 , 70.486, 73.905, 69.963, 61.69 ,\n",
       "       63.889])"
      ]
     },
     "execution_count": 18,
     "metadata": {},
     "output_type": "execute_result"
    }
   ],
   "source": [
    "# participant 2\n",
    "p2_fa_4 =  82.407/100\n",
    "\n",
    "p2_tmp_str_4 = \"Final Accuracy of time window 0-4 is: 52.082%\\\n",
    "Final Accuracy of time window 3-7 is: 55.963%\\\n",
    "Final Accuracy of time window 6-10 is: 71.354%\\\n",
    "Final Accuracy of time window 9-13 is: 76.210%\\\n",
    "Final Accuracy of time window 12-16 is: 70.486%\\\n",
    "Final Accuracy of time window 15-19 is: 73.905%\\\n",
    "Final Accuracy of time window 18-22 is: 69.963%\\\n",
    "Final Accuracy of time window 21-25 is: 61.690%\\\n",
    "Final Accuracy of time window 24-28 is: 63.889%\"\n",
    "\n",
    "p2_tmp_4 = np.zeros(9)\n",
    "\n",
    "p2_tmp_str_4.split(\"%\")[:-1]\n",
    "\n",
    "for i in range(len(p2_tmp_str_4.split(\"%\")[:-1])):\n",
    "    p2_tmp_4[i] = float(p2_tmp_str_4.split(\"%\")[:-1][i].split(\":\")[1])\n",
    "    \n",
    "p2_tmp_4"
   ]
  },
  {
   "cell_type": "code",
   "execution_count": 19,
   "metadata": {},
   "outputs": [
    {
     "data": {
      "text/plain": [
       "array([52.55 , 51.619, 68.054, 76.328, 72.629, 68.752, 67.072, 64.35 ,\n",
       "       68.113])"
      ]
     },
     "execution_count": 19,
     "metadata": {},
     "output_type": "execute_result"
    }
   ],
   "source": [
    "# participant 3\n",
    "p3_fa_4 = 79.162/100\n",
    "\n",
    "p3_tmp_str_4 = \"Final Accuracy of time window 0-4 is: 52.550%\\\n",
    "Final Accuracy of time window 3-7 is: 51.619%\\\n",
    "Final Accuracy of time window 6-10 is: 68.054%\\\n",
    "Final Accuracy of time window 9-13 is: 76.328%\\\n",
    "Final Accuracy of time window 12-16 is: 72.629%\\\n",
    "Final Accuracy of time window 15-19 is: 68.752%\\\n",
    "Final Accuracy of time window 18-22 is: 67.072%\\\n",
    "Final Accuracy of time window 21-25 is: 64.350%\\\n",
    "Final Accuracy of time window 24-28 is: 68.113%\"\n",
    "\n",
    "p3_tmp_4 = np.zeros(9)\n",
    "\n",
    "p3_tmp_str_4.split(\"%\")[:-1]\n",
    "\n",
    "for i in range(len(p3_tmp_str_4.split(\"%\")[:-1])):\n",
    "    p3_tmp_4[i] = float(p3_tmp_str_4.split(\"%\")[:-1][i].split(\":\")[1])\n",
    "    \n",
    "p3_tmp_4"
   ]
  },
  {
   "cell_type": "code",
   "execution_count": 20,
   "metadata": {},
   "outputs": [
    {
     "data": {
      "text/plain": [
       "array([48.787, 52.491, 73.322, 78.237, 78.588, 75.637, 70.545, 59.892,\n",
       "       62.215])"
      ]
     },
     "execution_count": 20,
     "metadata": {},
     "output_type": "execute_result"
    }
   ],
   "source": [
    "# participant 4\n",
    "p4_fa_4 =  80.435/100\n",
    "\n",
    "p4_tmp_str_4 = \"Final Accuracy of time window 0-4 is: 48.787%\\\n",
    "Final Accuracy of time window 3-7 is: 52.491%\\\n",
    "Final Accuracy of time window 6-10 is: 73.322%\\\n",
    "Final Accuracy of time window 9-13 is: 78.237%\\\n",
    "Final Accuracy of time window 12-16 is: 78.588%\\\n",
    "Final Accuracy of time window 15-19 is: 75.637%\\\n",
    "Final Accuracy of time window 18-22 is: 70.545%\\\n",
    "Final Accuracy of time window 21-25 is: 59.892%\\\n",
    "Final Accuracy of time window 24-28 is: 62.215%\"\n",
    "\n",
    "p4_tmp_4 = np.zeros(9)\n",
    "\n",
    "p4_tmp_str_4.split(\"%\")[:-1]\n",
    "\n",
    "for i in range(len(p4_tmp_str_4.split(\"%\")[:-1])):\n",
    "    p4_tmp_4[i] = float(p4_tmp_str_4.split(\"%\")[:-1][i].split(\":\")[1])\n",
    "    \n",
    "p4_tmp_4"
   ]
  },
  {
   "cell_type": "code",
   "execution_count": 21,
   "metadata": {},
   "outputs": [
    {
     "data": {
      "text/plain": [
       "array([51.413, 56.392, 70.791, 76.574, 78.311, 71.082, 68.655, 73.565,\n",
       "       71.256])"
      ]
     },
     "execution_count": 21,
     "metadata": {},
     "output_type": "execute_result"
    }
   ],
   "source": [
    "# participant 5\n",
    "p5_fa_4 =  82.012/100\n",
    "\n",
    "p5_tmp_str_4 = \"Final Accuracy of time window 0-4 is: 51.413%\\\n",
    "Final Accuracy of time window 3-7 is: 56.392%\\\n",
    "Final Accuracy of time window 6-10 is: 70.791%\\\n",
    "Final Accuracy of time window 9-13 is: 76.574%\\\n",
    "Final Accuracy of time window 12-16 is: 78.311%\\\n",
    "Final Accuracy of time window 15-19 is: 71.082%\\\n",
    "Final Accuracy of time window 18-22 is: 68.655%\\\n",
    "Final Accuracy of time window 21-25 is: 73.565%\\\n",
    "Final Accuracy of time window 24-28 is: 71.256%\"\n",
    "\n",
    "p5_tmp_4 = np.zeros(9)\n",
    "\n",
    "p5_tmp_str_4.split(\"%\")[:-1]\n",
    "\n",
    "for i in range(len(p5_tmp_str_4.split(\"%\")[:-1])):\n",
    "    p5_tmp_4[i] = float(p5_tmp_str_4.split(\"%\")[:-1][i].split(\":\")[1])\n",
    "    \n",
    "p5_tmp_4"
   ]
  },
  {
   "cell_type": "markdown",
   "metadata": {},
   "source": [
    "## 72 CLASSES - EXEMPLARS"
   ]
  },
  {
   "cell_type": "code",
   "execution_count": 22,
   "metadata": {},
   "outputs": [
    {
     "data": {
      "text/plain": [
       "array([1.504, 1.832, 3.587, 5.516, 4.842, 3.876, 3.337, 2.353, 2.449])"
      ]
     },
     "execution_count": 22,
     "metadata": {},
     "output_type": "execute_result"
    }
   ],
   "source": [
    "# participant 1\n",
    "p1_fa_5 = 6.847/100\n",
    "\n",
    "p1_tmp_str_5 = \"Final Accuracy of time window 0-4 is: 1.504%\\\n",
    "Final Accuracy of time window 3-7 is: 1.832%\\\n",
    "Final Accuracy of time window 6-10 is: 3.587%\\\n",
    "Final Accuracy of time window 9-13 is: 5.516%\\\n",
    "Final Accuracy of time window 12-16 is: 4.842%\\\n",
    "Final Accuracy of time window 15-19 is: 3.876%\\\n",
    "Final Accuracy of time window 18-22 is: 3.337%\\\n",
    "Final Accuracy of time window 21-25 is: 2.353%\\\n",
    "Final Accuracy of time window 24-28 is: 2.449%\"\n",
    "\n",
    "p1_tmp_5 = np.zeros(9)\n",
    "\n",
    "p1_tmp_str_5.split(\"%\")[:-1]\n",
    "\n",
    "for i in range(len(p1_tmp_str_5.split(\"%\")[:-1])):\n",
    "    p1_tmp_5[i] = float(p1_tmp_str_5.split(\"%\")[:-1][i].split(\":\")[1])\n",
    "    \n",
    "p1_tmp_5"
   ]
  },
  {
   "cell_type": "code",
   "execution_count": 23,
   "metadata": {},
   "outputs": [
    {
     "data": {
      "text/plain": [
       "array([1.427, 1.62 , 3.876, 5.361, 4.32 , 4.706, 3.587, 2.97 , 2.797])"
      ]
     },
     "execution_count": 23,
     "metadata": {},
     "output_type": "execute_result"
    }
   ],
   "source": [
    "# participant 2\n",
    "p2_fa_5 = 6.365/100\n",
    "\n",
    "p2_tmp_str_5 = \"Final Accuracy of time window 0-4 is: 1.427%\\\n",
    "Final Accuracy of time window 3-7 is: 1.620%\\\n",
    "Final Accuracy of time window 6-10 is: 3.876%\\\n",
    "Final Accuracy of time window 9-13 is: 5.361%\\\n",
    "Final Accuracy of time window 12-16 is: 4.320%\\\n",
    "Final Accuracy of time window 15-19 is: 4.706%\\\n",
    "Final Accuracy of time window 18-22 is: 3.587%\\\n",
    "Final Accuracy of time window 21-25 is: 2.970%\\\n",
    "Final Accuracy of time window 24-28 is: 2.797%\"\n",
    "\n",
    "p2_tmp_5 = np.zeros(9)\n",
    "\n",
    "p2_tmp_str_5.split(\"%\")[:-1]\n",
    "\n",
    "for i in range(len(p2_tmp_str_5.split(\"%\")[:-1])):\n",
    "    p2_tmp_5[i] = float(p2_tmp_str_5.split(\"%\")[:-1][i].split(\":\")[1])\n",
    "    \n",
    "p2_tmp_5"
   ]
  },
  {
   "cell_type": "code",
   "execution_count": 24,
   "metadata": {},
   "outputs": [
    {
     "data": {
      "text/plain": [
       "array([ 1.195,  2.101,  5.011, 10.12 ,  9.754,  9.368,  7.267,  5.089,\n",
       "        3.971])"
      ]
     },
     "execution_count": 24,
     "metadata": {},
     "output_type": "execute_result"
    }
   ],
   "source": [
    "# participant 3\n",
    "p3_fa_5 = 14.321/100\n",
    "\n",
    "p3_tmp_str_5 = \"Final Accuracy of time window 0-4 is: 1.195%\\\n",
    "Final Accuracy of time window 3-7 is: 2.101%\\\n",
    "Final Accuracy of time window 6-10 is: 5.011%\\\n",
    "Final Accuracy of time window 9-13 is: 10.120%\\\n",
    "Final Accuracy of time window 12-16 is: 9.754%\\\n",
    "Final Accuracy of time window 15-19 is: 9.368%\\\n",
    "Final Accuracy of time window 18-22 is: 7.267%\\\n",
    "Final Accuracy of time window 21-25 is: 5.089%\\\n",
    "Final Accuracy of time window 24-28 is: 3.971%\"\n",
    "\n",
    "p3_tmp_5 = np.zeros(9)\n",
    "\n",
    "p3_tmp_str_5.split(\"%\")[:-1]\n",
    "\n",
    "for i in range(len(p3_tmp_str_5.split(\"%\")[:-1])):\n",
    "    p3_tmp_5[i] = float(p3_tmp_str_5.split(\"%\")[:-1][i].split(\":\")[1])\n",
    "    \n",
    "p3_tmp_5"
   ]
  },
  {
   "cell_type": "code",
   "execution_count": 25,
   "metadata": {},
   "outputs": [
    {
     "data": {
      "text/plain": [
       "array([1.273, 1.581, 3.239, 5.534, 4.609, 4.223, 2.661, 2.102, 2.121])"
      ]
     },
     "execution_count": 25,
     "metadata": {},
     "output_type": "execute_result"
    }
   ],
   "source": [
    "# participant 4\n",
    "p4_fa_5 = 5.129/100\n",
    "\n",
    "p4_tmp_str_5 = \"Final Accuracy of time window 0-4 is: 1.273%\\\n",
    "Final Accuracy of time window 3-7 is: 1.581%\\\n",
    "Final Accuracy of time window 6-10 is: 3.239%\\\n",
    "Final Accuracy of time window 9-13 is: 5.534%\\\n",
    "Final Accuracy of time window 12-16 is: 4.609%\\\n",
    "Final Accuracy of time window 15-19 is: 4.223%\\\n",
    "Final Accuracy of time window 18-22 is: 2.661%\\\n",
    "Final Accuracy of time window 21-25 is: 2.102%\\\n",
    "Final Accuracy of time window 24-28 is: 2.121%\"\n",
    "\n",
    "p4_tmp_5 = np.zeros(9)\n",
    "\n",
    "p4_tmp_str_5.split(\"%\")[:-1]\n",
    "\n",
    "for i in range(len(p4_tmp_str_5.split(\"%\")[:-1])):\n",
    "    p4_tmp_5[i] = float(p4_tmp_str_5.split(\"%\")[:-1][i].split(\":\")[1])\n",
    "    \n",
    "p4_tmp_5"
   ]
  },
  {
   "cell_type": "code",
   "execution_count": 26,
   "metadata": {},
   "outputs": [
    {
     "data": {
      "text/plain": [
       "array([1.408, 1.62 , 4.377, 8.33 , 9.622, 8.06 , 5.842, 4.647, 3.664])"
      ]
     },
     "execution_count": 26,
     "metadata": {},
     "output_type": "execute_result"
    }
   ],
   "source": [
    "# participant 5\n",
    "p5_fa_5 = 10.046/100\n",
    "\n",
    "p5_tmp_str_5 = \"Final Accuracy of time window 0-4 is: 1.408%\\\n",
    "Final Accuracy of time window 3-7 is: 1.620%\\\n",
    "Final Accuracy of time window 6-10 is: 4.377%\\\n",
    "Final Accuracy of time window 9-13 is: 8.330%\\\n",
    "Final Accuracy of time window 12-16 is: 9.622%\\\n",
    "Final Accuracy of time window 15-19 is: 8.060%\\\n",
    "Final Accuracy of time window 18-22 is: 5.842%\\\n",
    "Final Accuracy of time window 21-25 is: 4.647%\\\n",
    "Final Accuracy of time window 24-28 is: 3.664%\"\n",
    "\n",
    "p5_tmp_5 = np.zeros(9)\n",
    "\n",
    "p5_tmp_str_5.split(\"%\")[:-1]\n",
    "\n",
    "for i in range(len(p5_tmp_str_5.split(\"%\")[:-1])):\n",
    "    p5_tmp_5[i] = float(p5_tmp_str_5.split(\"%\")[:-1][i].split(\":\")[1])\n",
    "    \n",
    "p5_tmp_5"
   ]
  },
  {
   "cell_type": "code",
   "execution_count": 27,
   "metadata": {},
   "outputs": [],
   "source": [
    "# append in a list the final accuracies for 6-class classification (1)\n",
    "accuracies_1 = []\n",
    "accuracies_1.append(p1_fa_1)\n",
    "accuracies_1.append(p2_fa_1)\n",
    "accuracies_1.append(p3_fa_1)\n",
    "accuracies_1.append(p4_fa_1)\n",
    "accuracies_1.append(p5_fa_1)"
   ]
  },
  {
   "cell_type": "code",
   "execution_count": 28,
   "metadata": {},
   "outputs": [],
   "source": [
    "# append in a list the final accuracies for 12c-HF classification (2)\n",
    "accuracies_2 = []\n",
    "accuracies_2.append(p1_fa_2)\n",
    "accuracies_2.append(p2_fa_2)\n",
    "accuracies_2.append(p3_fa_2)\n",
    "accuracies_2.append(p4_fa_2)\n",
    "accuracies_2.append(p5_fa_2)"
   ]
  },
  {
   "cell_type": "code",
   "execution_count": 29,
   "metadata": {},
   "outputs": [],
   "source": [
    "# append in a list the final accuracies for 12c-IO classification (3)\n",
    "accuracies_3 = []\n",
    "accuracies_3.append(p1_fa_3)\n",
    "accuracies_3.append(p2_fa_3)\n",
    "accuracies_3.append(p3_fa_3)\n",
    "accuracies_3.append(p4_fa_3)\n",
    "accuracies_3.append(p5_fa_3)"
   ]
  },
  {
   "cell_type": "code",
   "execution_count": 30,
   "metadata": {},
   "outputs": [],
   "source": [
    "# append in a list the final accuracies for HF vs IO classification (4)\n",
    "accuracies_4 = []\n",
    "accuracies_4.append(p1_fa_4)\n",
    "accuracies_4.append(p2_fa_4)\n",
    "accuracies_4.append(p3_fa_4)\n",
    "accuracies_4.append(p4_fa_4)\n",
    "accuracies_4.append(p5_fa_4)"
   ]
  },
  {
   "cell_type": "code",
   "execution_count": 31,
   "metadata": {},
   "outputs": [],
   "source": [
    "# append in a list the final accuracies for exemplar classif (5)\n",
    "accuracies_5 = []\n",
    "accuracies_5.append(p1_fa_5)\n",
    "accuracies_5.append(p2_fa_5)\n",
    "accuracies_5.append(p3_fa_5)\n",
    "accuracies_5.append(p4_fa_5)\n",
    "accuracies_5.append(p5_fa_5)"
   ]
  },
  {
   "cell_type": "markdown",
   "metadata": {},
   "source": [
    "### TIME WINDOWS - 6 class\n"
   ]
  },
  {
   "cell_type": "code",
   "execution_count": 32,
   "metadata": {},
   "outputs": [],
   "source": [
    "tw_acc_1 = []\n",
    "tw_acc_1.append(p1_tmp_1)\n",
    "tw_acc_1.append(p2_tmp_1)\n",
    "tw_acc_1.append(p3_tmp_1)\n",
    "tw_acc_1.append(p4_tmp_1)\n",
    "tw_acc_1.append(p5_tmp_1)"
   ]
  },
  {
   "cell_type": "markdown",
   "metadata": {},
   "source": [
    "### TIME WINDOWS 12C HF"
   ]
  },
  {
   "cell_type": "code",
   "execution_count": 33,
   "metadata": {},
   "outputs": [],
   "source": [
    "tw_acc_2 = []\n",
    "tw_acc_2.append(p1_tmp_2)\n",
    "tw_acc_2.append(p2_tmp_2)\n",
    "tw_acc_2.append(p3_tmp_2)\n",
    "tw_acc_2.append(p4_tmp_2)\n",
    "tw_acc_2.append(p5_tmp_2)"
   ]
  },
  {
   "cell_type": "markdown",
   "metadata": {},
   "source": [
    "### TIE WINDOWS 12c IO"
   ]
  },
  {
   "cell_type": "code",
   "execution_count": 34,
   "metadata": {},
   "outputs": [],
   "source": [
    "tw_acc_3 = []\n",
    "tw_acc_3.append(p1_tmp_3)\n",
    "tw_acc_3.append(p2_tmp_3)\n",
    "tw_acc_3.append(p3_tmp_3)\n",
    "tw_acc_3.append(p4_tmp_3)\n",
    "tw_acc_3.append(p5_tmp_3)"
   ]
  },
  {
   "cell_type": "markdown",
   "metadata": {},
   "source": [
    "### TIME WINDOWS HF vs IO\n"
   ]
  },
  {
   "cell_type": "code",
   "execution_count": 35,
   "metadata": {},
   "outputs": [],
   "source": [
    "tw_acc_4 = []\n",
    "tw_acc_4.append(p1_tmp_4)\n",
    "tw_acc_4.append(p2_tmp_4)\n",
    "tw_acc_4.append(p3_tmp_4)\n",
    "tw_acc_4.append(p4_tmp_4)\n",
    "tw_acc_4.append(p5_tmp_4)"
   ]
  },
  {
   "cell_type": "markdown",
   "metadata": {},
   "source": [
    "### TIME WINDOWS 72 EXEMPLARS"
   ]
  },
  {
   "cell_type": "code",
   "execution_count": 36,
   "metadata": {},
   "outputs": [],
   "source": [
    "tw_acc_5 = []\n",
    "tw_acc_5.append(p1_tmp_5)\n",
    "tw_acc_5.append(p2_tmp_5)\n",
    "tw_acc_5.append(p3_tmp_5)\n",
    "tw_acc_5.append(p4_tmp_5)\n",
    "tw_acc_5.append(p5_tmp_5)"
   ]
  },
  {
   "cell_type": "markdown",
   "metadata": {},
   "source": [
    "### Standard deviations of final accuracies - 5 participants"
   ]
  },
  {
   "cell_type": "code",
   "execution_count": 37,
   "metadata": {},
   "outputs": [
    {
     "data": {
      "text/plain": [
       "[1.6605, 1.936, 5.7234, 1.5227, 3.3142]"
      ]
     },
     "execution_count": 37,
     "metadata": {},
     "output_type": "execute_result"
    }
   ],
   "source": [
    "# 6 classes\n",
    "std_final_accuracies_1 =  np.std(accuracies_1)\n",
    "    \n",
    "# 12 cl - HF\n",
    "std_final_accuracies_2 =  np.std(accuracies_2)\n",
    "\n",
    "# 12 cl - IO\n",
    "std_final_accuracies_3 =  np.std(accuracies_3)\n",
    "\n",
    "# 2 cl HF - IO\n",
    "std_final_accuracies_4 =  np.std(accuracies_4)\n",
    "\n",
    "# 72 cl - exemplars\n",
    "std_final_accuracies_5 =  np.std(accuracies_5)\n",
    "\n",
    "std_final_accuracies_all = [std_final_accuracies_1, std_final_accuracies_2, std_final_accuracies_3,\n",
    "                           std_final_accuracies_4, std_final_accuracies_5]\n",
    "\n",
    "std_final_accuracies_all = [round(100*x, 4) for x in std_final_accuracies_all]\n",
    "std_final_accuracies_all"
   ]
  },
  {
   "cell_type": "markdown",
   "metadata": {},
   "source": [
    "### Mean of final accuracies - 5 participants"
   ]
  },
  {
   "cell_type": "code",
   "execution_count": 38,
   "metadata": {},
   "outputs": [
    {
     "data": {
      "text/plain": [
       "[0.3746, 0.1479, 0.2721, 0.8051, 0.0854]"
      ]
     },
     "execution_count": 38,
     "metadata": {},
     "output_type": "execute_result"
    }
   ],
   "source": [
    "# 6 classes\n",
    "mean_final_accuracies_1 =  np.mean(accuracies_1)\n",
    "    \n",
    "# 12 cl - HF\n",
    "mean_final_accuracies_2 =  np.mean(accuracies_2)\n",
    "\n",
    "\n",
    "# 12 cl - IO\n",
    "mean_final_accuracies_3 =  np.mean(accuracies_3)\n",
    "\n",
    "# 2 cl HF - IO\n",
    "mean_final_accuracies_4 =  np.mean(accuracies_4)\n",
    "\n",
    "\n",
    "# 72 cl - exemplars\n",
    "mean_final_accuracies_5 =  np.mean(accuracies_5)\n",
    "\n",
    "mean_final_accuracies_all = [mean_final_accuracies_1, mean_final_accuracies_2, mean_final_accuracies_3,\n",
    "                            mean_final_accuracies_4, mean_final_accuracies_5]\n",
    "\n",
    "mean_final_accuracies_all = [round(x, 4) for x in mean_final_accuracies_all]\n",
    "mean_final_accuracies_all"
   ]
  },
  {
   "cell_type": "code",
   "execution_count": 39,
   "metadata": {},
   "outputs": [],
   "source": [
    "a = [\"6 classes\", \"12 classes - HF\", \"12 classes - IO\", \"2 classes - HF vs IO\", \"72 classes - Exemplars\"]\n"
   ]
  },
  {
   "cell_type": "markdown",
   "metadata": {},
   "source": [
    "### Mean of time windows of 5 participants"
   ]
  },
  {
   "cell_type": "code",
   "execution_count": 40,
   "metadata": {},
   "outputs": [
    {
     "name": "stdout",
     "output_type": "stream",
     "text": [
      "['6 classes', '12 classes - HF', '12 classes - IO', '2 classes - HF vs IO', '72 classes - Exemplars']\n"
     ]
    },
    {
     "data": {
      "text/plain": [
       "[[16.4134,\n",
       "  18.5384,\n",
       "  28.0374,\n",
       "  34.771,\n",
       "  34.0764,\n",
       "  32.3404,\n",
       "  28.26,\n",
       "  24.6392,\n",
       "  24.1996],\n",
       " [8.5836, 8.7232, 11.69, 15.7392, 14.7462, 12.7482, 12.197, 11.3422, 10.923],\n",
       " [8.3402, 9.722, 16.6664, 19.951, 21.571, 22.1698, 16.6654, 14.0992, 12.5932],\n",
       " [50.7806,\n",
       "  54.4734,\n",
       "  70.8474,\n",
       "  77.141,\n",
       "  74.8982,\n",
       "  71.9838,\n",
       "  67.3642,\n",
       "  63.6578,\n",
       "  64.4606],\n",
       " [1.3614, 1.7508, 4.018, 6.9722, 6.6294, 6.0466, 4.5388, 3.4322, 3.0004]]"
      ]
     },
     "execution_count": 40,
     "metadata": {},
     "output_type": "execute_result"
    }
   ],
   "source": [
    "# 6 classes\n",
    "tw_all_part_1 = np.array([list(p1_tmp_1), list(p2_tmp_1), list(p3_tmp_1), list(p4_tmp_1), list(p5_tmp_1)])\n",
    "mean_tw_all_part_1 = tw_all_part_1.mean(axis = 0)\n",
    "mean_tw_all_part_1 = [round(x, 4) for x in mean_tw_all_part_1]\n",
    "\n",
    "\n",
    "# 12 classes - HF\n",
    "tw_all_part_2 = np.array([list(p1_tmp_2), list(p2_tmp_2), list(p3_tmp_2), list(p4_tmp_2), list(p5_tmp_2)])\n",
    "mean_tw_all_part_2 = tw_all_part_2.mean(axis = 0)\n",
    "mean_tw_all_part_2 = [round(x, 4) for x in mean_tw_all_part_2]\n",
    "\n",
    "\n",
    "# 12 classes - IO\n",
    "tw_all_part_3 = np.array([list(p1_tmp_3), list(p2_tmp_3), list(p3_tmp_3), list(p4_tmp_3), list(p5_tmp_3)])\n",
    "mean_tw_all_part_3 = tw_all_part_3.mean(axis = 0)\n",
    "mean_tw_all_part_3 = [round(x, 4) for x in mean_tw_all_part_3]\n",
    "\n",
    "\n",
    "# 2 classes - HF vs IO\n",
    "tw_all_part_4 = np.array([list(p1_tmp_4), list(p2_tmp_4), list(p3_tmp_4), list(p4_tmp_4), list(p5_tmp_4)])\n",
    "mean_tw_all_part_4 = tw_all_part_4.mean(axis = 0)\n",
    "mean_tw_all_part_4 = [round(x, 4) for x in mean_tw_all_part_4]\n",
    "\n",
    "\n",
    "# 72 classes - exemplars\n",
    "tw_all_part_5 = np.array([list(p1_tmp_5), list(p2_tmp_5), list(p3_tmp_5), list(p4_tmp_5), list(p5_tmp_5)])\n",
    "mean_tw_all_part_5 = tw_all_part_5.mean(axis = 0)\n",
    "mean_tw_all_part_5 = [round(x, 4) for x in mean_tw_all_part_5]\n",
    "\n",
    "\n",
    "\n",
    "mean_tw_all_part_all_lvl = [mean_tw_all_part_1, mean_tw_all_part_2, mean_tw_all_part_3,\n",
    "                           mean_tw_all_part_4, mean_tw_all_part_5]\n",
    "\n",
    "print(a)\n",
    "mean_tw_all_part_all_lvl"
   ]
  },
  {
   "cell_type": "code",
   "execution_count": null,
   "metadata": {},
   "outputs": [],
   "source": []
  },
  {
   "cell_type": "markdown",
   "metadata": {},
   "source": [
    "### Standard deviation of time windows of 5 participants"
   ]
  },
  {
   "cell_type": "code",
   "execution_count": 41,
   "metadata": {},
   "outputs": [
    {
     "name": "stdout",
     "output_type": "stream",
     "text": [
      "6 classes \n",
      "\n",
      "time window 0 - 4 : 0.6504\n",
      "time window 1 - 5 : 0.4029\n",
      "time window 2 - 6 : 0.9542\n",
      "time window 3 - 7 : 1.713\n",
      "time window 4 - 8 : 2.3572\n",
      "time window 5 - 9 : 1.4505\n",
      "time window 6 - 10 : 2.0719\n",
      "time window 7 - 11 : 2.3494\n",
      "time window 8 - 12 : 3.7905\n",
      "12 classes - HF \n",
      "\n",
      "time window 0 - 4 : 1.6389\n",
      "time window 1 - 5 : 1.0324\n",
      "time window 2 - 6 : 1.7731\n",
      "time window 3 - 7 : 1.8993\n",
      "time window 4 - 8 : 1.9021\n",
      "time window 5 - 9 : 1.9262\n",
      "time window 6 - 10 : 1.8309\n",
      "time window 7 - 11 : 1.95\n",
      "time window 8 - 12 : 0.974\n",
      "12 classes - IO \n",
      "\n",
      "time window 0 - 4 : 0.4869\n",
      "time window 1 - 5 : 0.8308\n",
      "time window 2 - 6 : 2.6852\n",
      "time window 3 - 7 : 5.3198\n",
      "time window 4 - 8 : 6.0019\n",
      "time window 5 - 9 : 6.37\n",
      "time window 6 - 10 : 3.3409\n",
      "time window 7 - 11 : 3.5925\n",
      "time window 8 - 12 : 1.4584\n",
      "2 classes - HF vs IO \n",
      "\n",
      "time window 0 - 4 : 1.557\n",
      "time window 1 - 5 : 2.0009\n",
      "time window 2 - 6 : 1.6855\n",
      "time window 3 - 7 : 0.9515\n",
      "time window 4 - 8 : 3.164\n",
      "time window 5 - 9 : 2.4646\n",
      "time window 6 - 10 : 3.5935\n",
      "time window 7 - 11 : 5.2983\n",
      "time window 8 - 12 : 4.9621\n",
      "72 classes - Exemplars \n",
      "\n",
      "time window 0 - 4 : 0.1116\n",
      "time window 1 - 5 : 0.1961\n",
      "time window 2 - 6 : 0.6209\n",
      "time window 3 - 7 : 1.9255\n",
      "time window 4 - 8 : 2.5032\n",
      "time window 5 - 9 : 2.2325\n",
      "time window 6 - 10 : 1.7331\n",
      "time window 7 - 11 : 1.214\n",
      "time window 8 - 12 : 0.7073\n"
     ]
    }
   ],
   "source": [
    "# 6 classes\n",
    "std_1 = tw_all_part_1.std(axis=0)\n",
    "std_1 = [round(x,4) for x in std_1]\n",
    "\n",
    "# 12 classes - HF\n",
    "std_2 = tw_all_part_2.std(axis=0)\n",
    "std_2 = [round(x,4) for x in std_2]\n",
    "\n",
    "# 12 classes - IO\n",
    "std_3 = tw_all_part_3.std(axis=0)\n",
    "std_3 = [round(x,4) for x in std_3]\n",
    "\n",
    "# 2 classes - HF vs IO\n",
    "std_4 = tw_all_part_4.std(axis=0)\n",
    "std_4 = [round(x,4) for x in std_4]\n",
    "\n",
    "# 72 classes - exemplars\n",
    "std_5 = tw_all_part_5.std(axis=0)\n",
    "std_5 = [round(x,4) for x in std_5]\n",
    "\n",
    "#print(a, '\\n')\n",
    "\n",
    "std_tw_all_part_all_lvl = [std_1, std_2, std_3, std_4, std_5]\n",
    "std_tw_all_part_all_lvl = np.array(std_tw_all_part_all_lvl)\n",
    "\n",
    "if True:\n",
    "    for j in range(len(a)):\n",
    "        print(a[j], '\\n')\n",
    "        for i in range(9):\n",
    "            print('time window', i,'-', i+4, ':', std_tw_all_part_all_lvl[j][i])\n",
    "            \n",
    "#std_tw_all_part_all_lvl"
   ]
  },
  {
   "cell_type": "code",
   "execution_count": 42,
   "metadata": {},
   "outputs": [
    {
     "name": "stdout",
     "output_type": "stream",
     "text": [
      "mean accuracy of 6 classes\n",
      "time window 0 - 4 : 16.4134\n",
      "time window 1 - 5 : 18.5384\n",
      "time window 2 - 6 : 28.0374\n",
      "time window 3 - 7 : 34.771\n",
      "time window 4 - 8 : 34.0764\n",
      "\n",
      "\n",
      "mean accuracy of 12 classes - HF\n",
      "time window 0 - 4 : 8.5836\n",
      "time window 1 - 5 : 8.7232\n",
      "time window 2 - 6 : 11.69\n",
      "time window 3 - 7 : 15.7392\n",
      "time window 4 - 8 : 14.7462\n",
      "\n",
      "\n",
      "mean accuracy of 12 classes - IO\n",
      "time window 0 - 4 : 8.3402\n",
      "time window 1 - 5 : 9.722\n",
      "time window 2 - 6 : 16.6664\n",
      "time window 3 - 7 : 19.951\n",
      "time window 4 - 8 : 21.571\n",
      "\n",
      "\n",
      "mean accuracy of 2 classes - HF vs IO\n",
      "time window 0 - 4 : 50.7806\n",
      "time window 1 - 5 : 54.4734\n",
      "time window 2 - 6 : 70.8474\n",
      "time window 3 - 7 : 77.141\n",
      "time window 4 - 8 : 74.8982\n",
      "\n",
      "\n",
      "mean accuracy of 72 classes - Exemplars\n",
      "time window 0 - 4 : 1.3614\n",
      "time window 1 - 5 : 1.7508\n",
      "time window 2 - 6 : 4.018\n",
      "time window 3 - 7 : 6.9722\n",
      "time window 4 - 8 : 6.6294\n",
      "\n",
      "\n"
     ]
    }
   ],
   "source": [
    "mean_accuracies_tw = [mean_tw_all_part_1, mean_tw_all_part_2, mean_tw_all_part_3, mean_tw_all_part_4,\n",
    "                     mean_tw_all_part_5]\n",
    "\n",
    "if True:\n",
    "    for i in range(len(a)):\n",
    "        print('mean accuracy of', a[i])\n",
    "        for j in range(len(mean_accuracies_tw)):\n",
    "            print('time window', j,'-', j+4, ':', mean_accuracies_tw[i][j])\n",
    "        print('\\n')\n",
    "        \n",
    "        "
   ]
  },
  {
   "cell_type": "code",
   "execution_count": 43,
   "metadata": {},
   "outputs": [
    {
     "data": {
      "text/plain": [
       "[37.463, 14.791, 27.211, 80.509, 8.542]"
      ]
     },
     "execution_count": 43,
     "metadata": {},
     "output_type": "execute_result"
    }
   ],
   "source": [
    "# final accuracies mean of 5 participants in whole time-window\n",
    "\n",
    "final_accuracies_mean = [np.array([p1_fa_1, p2_fa_1, p3_fa_1, p4_fa_1, p5_fa_1]).mean(),\n",
    "                    np.array([p1_fa_2, p2_fa_2, p3_fa_2, p4_fa_2, p5_fa_2]).mean(),\n",
    "                    np.array([p1_fa_3, p2_fa_3, p3_fa_3, p4_fa_3, p5_fa_3]).mean(),\n",
    "                    np.array([p1_fa_4, p2_fa_4, p3_fa_4, p4_fa_4, p5_fa_4]).mean(),\n",
    "                    np.array([p1_fa_5, p2_fa_5, p3_fa_5, p4_fa_5, p5_fa_5]).mean()]\n",
    "\n",
    "final_accuracies_mean = [round(100*x, 3) for x in final_accuracies_mean]\n",
    "#final_accuracies_mean = [str(round(x, 3)) + \"%\" for x in final_accuracies_mean]\n",
    "final_accuracies_mean"
   ]
  },
  {
   "cell_type": "code",
   "execution_count": 44,
   "metadata": {},
   "outputs": [
    {
     "name": "stdout",
     "output_type": "stream",
     "text": [
      "6 classes, 12 classes HF, 12 classes IO, HF vs IO, 72 exemplars\n"
     ]
    },
    {
     "data": {
      "text/plain": [
       "[1.661, 1.936, 5.723, 1.523, 3.314]"
      ]
     },
     "execution_count": 44,
     "metadata": {},
     "output_type": "execute_result"
    }
   ],
   "source": [
    "# final accuracies std of 5 participants in whole time-window\n",
    "print(\"6 classes, 12 classes HF, 12 classes IO, HF vs IO, 72 exemplars\")\n",
    "final_accuracies_std = [np.array([p1_fa_1, p2_fa_1, p3_fa_1, p4_fa_1, p5_fa_1]).std(),\n",
    "                    np.array([p1_fa_2, p2_fa_2, p3_fa_2, p4_fa_2, p5_fa_2]).std(),\n",
    "                    np.array([p1_fa_3, p2_fa_3, p3_fa_3, p4_fa_3, p5_fa_3]).std(),\n",
    "                    np.array([p1_fa_4, p2_fa_4, p3_fa_4, p4_fa_4, p5_fa_4]).std(),\n",
    "                    np.array([p1_fa_5, p2_fa_5, p3_fa_5, p4_fa_5, p5_fa_5]).std()]\n",
    "\n",
    "final_accuracies_std = [round(100*x, 3) for x in final_accuracies_std]\n",
    "#final_accuracies_std = [str(round(x, 3)) + \"%\" for x in final_accuracies_std]\n",
    "final_accuracies_std"
   ]
  },
  {
   "cell_type": "code",
   "execution_count": 45,
   "metadata": {},
   "outputs": [],
   "source": [
    "std_tw_all_part = [std_1, std_2, std_3, std_4, std_5]"
   ]
  },
  {
   "cell_type": "code",
   "execution_count": 46,
   "metadata": {},
   "outputs": [
    {
     "name": "stdout",
     "output_type": "stream",
     "text": [
      "6 classes\n",
      "[16.4134, 18.5384, 28.0374, 34.771, 34.0764, 32.3404, 28.26, 24.6392, 24.1996] \n",
      "\n",
      "12 classes - HF\n",
      "[8.5836, 8.7232, 11.69, 15.7392, 14.7462, 12.7482, 12.197, 11.3422, 10.923] \n",
      "\n",
      "12 classes - IO\n",
      "[8.3402, 9.722, 16.6664, 19.951, 21.571, 22.1698, 16.6654, 14.0992, 12.5932] \n",
      "\n",
      "2 classes - HF vs IO\n",
      "[50.7806, 54.4734, 70.8474, 77.141, 74.8982, 71.9838, 67.3642, 63.6578, 64.4606] \n",
      "\n",
      "72 classes - Exemplars\n",
      "[1.3614, 1.7508, 4.018, 6.9722, 6.6294, 6.0466, 4.5388, 3.4322, 3.0004] \n",
      "\n"
     ]
    }
   ],
   "source": [
    "mean_accuracies_tw = [mean_tw_all_part_1, mean_tw_all_part_2, mean_tw_all_part_3, mean_tw_all_part_4,\n",
    "                     mean_tw_all_part_5]\n",
    "for i in range(len(mean_accuracies_tw)):\n",
    "    mean_accuracies_tw[i] = [round(x,4) for x in mean_accuracies_tw[i]]\n",
    "    \n",
    "j=0\n",
    "for i in mean_accuracies_tw:\n",
    "    print(a[j])\n",
    "    print(i, '\\n')\n",
    "    j+=1\n",
    "    "
   ]
  },
  {
   "cell_type": "code",
   "execution_count": 47,
   "metadata": {},
   "outputs": [
    {
     "name": "stdout",
     "output_type": "stream",
     "text": [
      "[[16.4134 18.5384 28.0374 34.771  34.0764 32.3404 28.26   24.6392 24.1996]\n",
      " [ 8.5836  8.7232 11.69   15.7392 14.7462 12.7482 12.197  11.3422 10.923 ]\n",
      " [ 8.3402  9.722  16.6664 19.951  21.571  22.1698 16.6654 14.0992 12.5932]\n",
      " [50.7806 54.4734 70.8474 77.141  74.8982 71.9838 67.3642 63.6578 64.4606]\n",
      " [ 1.3614  1.7508  4.018   6.9722  6.6294  6.0466  4.5388  3.4322  3.0004]]\n"
     ]
    }
   ],
   "source": [
    "tw_accuracies_means = np.array([mean_tw_all_part_1, mean_tw_all_part_2,\n",
    "                      mean_tw_all_part_3, mean_tw_all_part_4, mean_tw_all_part_5])\n",
    "\n",
    "\n",
    "print(tw_accuracies_means)"
   ]
  },
  {
   "cell_type": "code",
   "execution_count": 48,
   "metadata": {},
   "outputs": [
    {
     "name": "stdout",
     "output_type": "stream",
     "text": [
      "[[0.6504 0.4029 0.9542 1.713  2.3572 1.4505 2.0719 2.3494 3.7905]\n",
      " [1.6389 1.0324 1.7731 1.8993 1.9021 1.9262 1.8309 1.95   0.974 ]\n",
      " [0.4869 0.8308 2.6852 5.3198 6.0019 6.37   3.3409 3.5925 1.4584]\n",
      " [1.557  2.0009 1.6855 0.9515 3.164  2.4646 3.5935 5.2983 4.9621]\n",
      " [0.1116 0.1961 0.6209 1.9255 2.5032 2.2325 1.7331 1.214  0.7073]]\n"
     ]
    }
   ],
   "source": [
    "tw_accuracies_stds = np.array([std_1, std_2, std_3, std_4, std_5])\n",
    "\n",
    "\n",
    "print(tw_accuracies_stds)"
   ]
  },
  {
   "cell_type": "code",
   "execution_count": 49,
   "metadata": {},
   "outputs": [
    {
     "data": {
      "text/plain": [
       "array([[16.41, 18.54, 28.04, 34.77, 34.08, 32.34, 28.26, 24.64, 24.2 ],\n",
       "       [ 8.58,  8.72, 11.69, 15.74, 14.75, 12.75, 12.2 , 11.34, 10.92],\n",
       "       [ 8.34,  9.72, 16.67, 19.95, 21.57, 22.17, 16.67, 14.1 , 12.59],\n",
       "       [50.78, 54.47, 70.85, 77.14, 74.9 , 71.98, 67.36, 63.66, 64.46],\n",
       "       [ 1.36,  1.75,  4.02,  6.97,  6.63,  6.05,  4.54,  3.43,  3.  ]])"
      ]
     },
     "execution_count": 49,
     "metadata": {},
     "output_type": "execute_result"
    }
   ],
   "source": [
    "# for all levels of classifications, mean of participants, list of length 6\n",
    "final_accuracies_mean  \n",
    "\n",
    "# for all levels of classifications, std of all participants, list of length 6\n",
    "final_accuracies_std  \n",
    "\n",
    "# for all levels of classifications, mean of each tw for all prtcp, array.shape = (5,9)\n",
    "tw_accuracies_means = np.array([np.round(x,2) for x in tw_accuracies_means])\n",
    "tw_accuracies_means\n",
    "\n",
    "# for all levels of classifications, mean of each tw for all prtcp, array.shape = (5,9)\n",
    "#std_tw_all_part_all_lvl "
   ]
  },
  {
   "cell_type": "code",
   "execution_count": 50,
   "metadata": {},
   "outputs": [
    {
     "data": {
      "text/html": [
       "<div>\n",
       "<style scoped>\n",
       "    .dataframe tbody tr th:only-of-type {\n",
       "        vertical-align: middle;\n",
       "    }\n",
       "\n",
       "    .dataframe tbody tr th {\n",
       "        vertical-align: top;\n",
       "    }\n",
       "\n",
       "    .dataframe thead th {\n",
       "        text-align: right;\n",
       "    }\n",
       "</style>\n",
       "<table border=\"1\" class=\"dataframe\">\n",
       "  <thead>\n",
       "    <tr style=\"text-align: right;\">\n",
       "      <th></th>\n",
       "      <th>0-496ms</th>\n",
       "      <th>tw 0-4</th>\n",
       "      <th>tw 3-7</th>\n",
       "      <th>tw 6-10</th>\n",
       "      <th>tw 9-13</th>\n",
       "      <th>tw 12-16</th>\n",
       "      <th>tw 15-19</th>\n",
       "      <th>tw 18-22</th>\n",
       "      <th>tw 21-25</th>\n",
       "      <th>tw 24-28</th>\n",
       "    </tr>\n",
       "  </thead>\n",
       "  <tbody>\n",
       "    <tr>\n",
       "      <th>6 classes</th>\n",
       "      <td>37.463</td>\n",
       "      <td>16.41</td>\n",
       "      <td>18.54</td>\n",
       "      <td>28.04</td>\n",
       "      <td>34.77</td>\n",
       "      <td>34.08</td>\n",
       "      <td>32.34</td>\n",
       "      <td>28.26</td>\n",
       "      <td>24.64</td>\n",
       "      <td>24.20</td>\n",
       "    </tr>\n",
       "    <tr>\n",
       "      <th>12 classes - HF</th>\n",
       "      <td>14.791</td>\n",
       "      <td>8.58</td>\n",
       "      <td>8.72</td>\n",
       "      <td>11.69</td>\n",
       "      <td>15.74</td>\n",
       "      <td>14.75</td>\n",
       "      <td>12.75</td>\n",
       "      <td>12.20</td>\n",
       "      <td>11.34</td>\n",
       "      <td>10.92</td>\n",
       "    </tr>\n",
       "    <tr>\n",
       "      <th>12 classes - IO</th>\n",
       "      <td>27.211</td>\n",
       "      <td>8.34</td>\n",
       "      <td>9.72</td>\n",
       "      <td>16.67</td>\n",
       "      <td>19.95</td>\n",
       "      <td>21.57</td>\n",
       "      <td>22.17</td>\n",
       "      <td>16.67</td>\n",
       "      <td>14.10</td>\n",
       "      <td>12.59</td>\n",
       "    </tr>\n",
       "    <tr>\n",
       "      <th>2 classes - HF vs IO</th>\n",
       "      <td>80.509</td>\n",
       "      <td>50.78</td>\n",
       "      <td>54.47</td>\n",
       "      <td>70.85</td>\n",
       "      <td>77.14</td>\n",
       "      <td>74.90</td>\n",
       "      <td>71.98</td>\n",
       "      <td>67.36</td>\n",
       "      <td>63.66</td>\n",
       "      <td>64.46</td>\n",
       "    </tr>\n",
       "    <tr>\n",
       "      <th>72 classes - Exemplars</th>\n",
       "      <td>8.542</td>\n",
       "      <td>1.36</td>\n",
       "      <td>1.75</td>\n",
       "      <td>4.02</td>\n",
       "      <td>6.97</td>\n",
       "      <td>6.63</td>\n",
       "      <td>6.05</td>\n",
       "      <td>4.54</td>\n",
       "      <td>3.43</td>\n",
       "      <td>3.00</td>\n",
       "    </tr>\n",
       "  </tbody>\n",
       "</table>\n",
       "</div>"
      ],
      "text/plain": [
       "                        0-496ms  tw 0-4  tw 3-7  tw 6-10  tw 9-13  tw 12-16  \\\n",
       "6 classes                37.463   16.41   18.54    28.04    34.77     34.08   \n",
       "12 classes - HF          14.791    8.58    8.72    11.69    15.74     14.75   \n",
       "12 classes - IO          27.211    8.34    9.72    16.67    19.95     21.57   \n",
       "2 classes - HF vs IO     80.509   50.78   54.47    70.85    77.14     74.90   \n",
       "72 classes - Exemplars    8.542    1.36    1.75     4.02     6.97      6.63   \n",
       "\n",
       "                        tw 15-19  tw 18-22  tw 21-25  tw 24-28  \n",
       "6 classes                  32.34     28.26     24.64     24.20  \n",
       "12 classes - HF            12.75     12.20     11.34     10.92  \n",
       "12 classes - IO            22.17     16.67     14.10     12.59  \n",
       "2 classes - HF vs IO       71.98     67.36     63.66     64.46  \n",
       "72 classes - Exemplars      6.05      4.54      3.43      3.00  "
      ]
     },
     "execution_count": 50,
     "metadata": {},
     "output_type": "execute_result"
    }
   ],
   "source": [
    "# create 3 dataframes of size 5-levels x 1-statistic x 10-tw  =  15 x 10\n",
    "\n",
    "colnames = ['0-496ms', 'tw 0-4', 'tw 3-7', 'tw 6-10', 'tw 9-13', 'tw 12-16', \n",
    "              'tw 15-19', 'tw 18-22', 'tw 21-25', 'tw 24-28']\n",
    "\n",
    "rownames = a \n",
    "\n",
    "# ACCURACIES DF\n",
    "\n",
    "df_acc = pd.DataFrame(0, index=a, columns=colnames)\n",
    "\n",
    "\n",
    "df_acc[\"0-496ms\"] = final_accuracies_mean\n",
    "df_acc\n",
    "\n",
    "for i in range(tw_accuracies_means.shape[0]):\n",
    "    df_acc.iloc[i,1:] = tw_accuracies_means[i]\n",
    "df_acc"
   ]
  },
  {
   "cell_type": "code",
   "execution_count": 51,
   "metadata": {},
   "outputs": [
    {
     "data": {
      "text/html": [
       "<div>\n",
       "<style scoped>\n",
       "    .dataframe tbody tr th:only-of-type {\n",
       "        vertical-align: middle;\n",
       "    }\n",
       "\n",
       "    .dataframe tbody tr th {\n",
       "        vertical-align: top;\n",
       "    }\n",
       "\n",
       "    .dataframe thead th {\n",
       "        text-align: right;\n",
       "    }\n",
       "</style>\n",
       "<table border=\"1\" class=\"dataframe\">\n",
       "  <thead>\n",
       "    <tr style=\"text-align: right;\">\n",
       "      <th></th>\n",
       "      <th>0-496ms</th>\n",
       "      <th>tw 0-4</th>\n",
       "      <th>tw 3-7</th>\n",
       "      <th>tw 6-10</th>\n",
       "      <th>tw 9-13</th>\n",
       "      <th>tw 12-16</th>\n",
       "      <th>tw 15-19</th>\n",
       "      <th>tw 18-22</th>\n",
       "      <th>tw 21-25</th>\n",
       "      <th>tw 24-28</th>\n",
       "    </tr>\n",
       "  </thead>\n",
       "  <tbody>\n",
       "    <tr>\n",
       "      <th>6 classes</th>\n",
       "      <td>1.661</td>\n",
       "      <td>0.6504</td>\n",
       "      <td>0.4029</td>\n",
       "      <td>0.9542</td>\n",
       "      <td>1.7130</td>\n",
       "      <td>2.3572</td>\n",
       "      <td>1.4505</td>\n",
       "      <td>2.0719</td>\n",
       "      <td>2.3494</td>\n",
       "      <td>3.7905</td>\n",
       "    </tr>\n",
       "    <tr>\n",
       "      <th>12 classes - HF</th>\n",
       "      <td>1.936</td>\n",
       "      <td>1.6389</td>\n",
       "      <td>1.0324</td>\n",
       "      <td>1.7731</td>\n",
       "      <td>1.8993</td>\n",
       "      <td>1.9021</td>\n",
       "      <td>1.9262</td>\n",
       "      <td>1.8309</td>\n",
       "      <td>1.9500</td>\n",
       "      <td>0.9740</td>\n",
       "    </tr>\n",
       "    <tr>\n",
       "      <th>12 classes - IO</th>\n",
       "      <td>5.723</td>\n",
       "      <td>0.4869</td>\n",
       "      <td>0.8308</td>\n",
       "      <td>2.6852</td>\n",
       "      <td>5.3198</td>\n",
       "      <td>6.0019</td>\n",
       "      <td>6.3700</td>\n",
       "      <td>3.3409</td>\n",
       "      <td>3.5925</td>\n",
       "      <td>1.4584</td>\n",
       "    </tr>\n",
       "    <tr>\n",
       "      <th>2 classes - HF vs IO</th>\n",
       "      <td>1.523</td>\n",
       "      <td>1.5570</td>\n",
       "      <td>2.0009</td>\n",
       "      <td>1.6855</td>\n",
       "      <td>0.9515</td>\n",
       "      <td>3.1640</td>\n",
       "      <td>2.4646</td>\n",
       "      <td>3.5935</td>\n",
       "      <td>5.2983</td>\n",
       "      <td>4.9621</td>\n",
       "    </tr>\n",
       "    <tr>\n",
       "      <th>72 classes - Exemplars</th>\n",
       "      <td>3.314</td>\n",
       "      <td>0.1116</td>\n",
       "      <td>0.1961</td>\n",
       "      <td>0.6209</td>\n",
       "      <td>1.9255</td>\n",
       "      <td>2.5032</td>\n",
       "      <td>2.2325</td>\n",
       "      <td>1.7331</td>\n",
       "      <td>1.2140</td>\n",
       "      <td>0.7073</td>\n",
       "    </tr>\n",
       "  </tbody>\n",
       "</table>\n",
       "</div>"
      ],
      "text/plain": [
       "                        0-496ms  tw 0-4  tw 3-7  tw 6-10  tw 9-13  tw 12-16  \\\n",
       "6 classes                 1.661  0.6504  0.4029   0.9542   1.7130    2.3572   \n",
       "12 classes - HF           1.936  1.6389  1.0324   1.7731   1.8993    1.9021   \n",
       "12 classes - IO           5.723  0.4869  0.8308   2.6852   5.3198    6.0019   \n",
       "2 classes - HF vs IO      1.523  1.5570  2.0009   1.6855   0.9515    3.1640   \n",
       "72 classes - Exemplars    3.314  0.1116  0.1961   0.6209   1.9255    2.5032   \n",
       "\n",
       "                        tw 15-19  tw 18-22  tw 21-25  tw 24-28  \n",
       "6 classes                 1.4505    2.0719    2.3494    3.7905  \n",
       "12 classes - HF           1.9262    1.8309    1.9500    0.9740  \n",
       "12 classes - IO           6.3700    3.3409    3.5925    1.4584  \n",
       "2 classes - HF vs IO      2.4646    3.5935    5.2983    4.9621  \n",
       "72 classes - Exemplars    2.2325    1.7331    1.2140    0.7073  "
      ]
     },
     "execution_count": 51,
     "metadata": {},
     "output_type": "execute_result"
    }
   ],
   "source": [
    "colnames = ['0-496ms', 'tw 0-4', 'tw 3-7', 'tw 6-10', 'tw 9-13', 'tw 12-16', \n",
    "              'tw 15-19', 'tw 18-22', 'tw 21-25', 'tw 24-28']\n",
    "\n",
    "rownames = a \n",
    "\n",
    "# STD DF\n",
    "\n",
    "df_std = pd.DataFrame(0, index=a, columns=colnames)\n",
    "\n",
    "\n",
    "df_std[\"0-496ms\"] = final_accuracies_std\n",
    "df_std\n",
    "\n",
    "for i in range(tw_accuracies_stds.shape[0]):\n",
    "    df_std.iloc[i,1:] = tw_accuracies_stds[i]\n",
    "df_std"
   ]
  },
  {
   "cell_type": "code",
   "execution_count": null,
   "metadata": {},
   "outputs": [],
   "source": []
  },
  {
   "cell_type": "code",
   "execution_count": 80,
   "metadata": {},
   "outputs": [
    {
     "data": {
      "text/html": [
       "<div>\n",
       "<style scoped>\n",
       "    .dataframe tbody tr th:only-of-type {\n",
       "        vertical-align: middle;\n",
       "    }\n",
       "\n",
       "    .dataframe tbody tr th {\n",
       "        vertical-align: top;\n",
       "    }\n",
       "\n",
       "    .dataframe thead th {\n",
       "        text-align: right;\n",
       "    }\n",
       "</style>\n",
       "<table border=\"1\" class=\"dataframe\">\n",
       "  <thead>\n",
       "    <tr style=\"text-align: right;\">\n",
       "      <th></th>\n",
       "      <th>0-496ms</th>\n",
       "      <th>tw 0-4</th>\n",
       "      <th>tw 3-7</th>\n",
       "      <th>tw 6-10</th>\n",
       "      <th>tw 9-13</th>\n",
       "      <th>tw 12-16</th>\n",
       "      <th>tw 15-19</th>\n",
       "      <th>tw 18-22</th>\n",
       "      <th>tw 21-25</th>\n",
       "      <th>tw 24-28</th>\n",
       "    </tr>\n",
       "  </thead>\n",
       "  <tbody>\n",
       "    <tr>\n",
       "      <th>6 classes</th>\n",
       "      <td>1.102000e-29</td>\n",
       "      <td>5.807e-01</td>\n",
       "      <td>1.403e-01</td>\n",
       "      <td>8.095e-11</td>\n",
       "      <td>1.726e-23</td>\n",
       "      <td>8.314e-22</td>\n",
       "      <td>3.086e-18</td>\n",
       "      <td>4.097e-11</td>\n",
       "      <td>3.337e-06</td>\n",
       "      <td>8.939e-06</td>\n",
       "    </tr>\n",
       "    <tr>\n",
       "      <th>12 classes - HF</th>\n",
       "      <td>2.127000e-06</td>\n",
       "      <td>4.701e-01</td>\n",
       "      <td>4.079e-01</td>\n",
       "      <td>6.416e-03</td>\n",
       "      <td>3.834e-08</td>\n",
       "      <td>1.235e-06</td>\n",
       "      <td>4.179e-04</td>\n",
       "      <td>1.764e-03</td>\n",
       "      <td>1.395e-02</td>\n",
       "      <td>2.834e-02</td>\n",
       "    </tr>\n",
       "    <tr>\n",
       "      <th>12 classes - IO</th>\n",
       "      <td>1.014000e-36</td>\n",
       "      <td>5.335e-01</td>\n",
       "      <td>1.569e-01</td>\n",
       "      <td>8.363e-10</td>\n",
       "      <td>1.618e-16</td>\n",
       "      <td>3.321e-20</td>\n",
       "      <td>1.139e-21</td>\n",
       "      <td>8.363e-10</td>\n",
       "      <td>8.326e-06</td>\n",
       "      <td>6.865e-04</td>\n",
       "    </tr>\n",
       "    <tr>\n",
       "      <th>2 classes - HF vs IO</th>\n",
       "      <td>1.325000e-46</td>\n",
       "      <td>3.792e-01</td>\n",
       "      <td>2.396e-02</td>\n",
       "      <td>4.413e-22</td>\n",
       "      <td>1.211e-36</td>\n",
       "      <td>3.907e-31</td>\n",
       "      <td>1.763e-24</td>\n",
       "      <td>9.683e-16</td>\n",
       "      <td>2.281e-10</td>\n",
       "      <td>2.168e-11</td>\n",
       "    </tr>\n",
       "    <tr>\n",
       "      <th>72 classes - Exemplars</th>\n",
       "      <td>4.542000e-21</td>\n",
       "      <td>5.801e-01</td>\n",
       "      <td>2.958e-01</td>\n",
       "      <td>5.488e-05</td>\n",
       "      <td>7.95e-15</td>\n",
       "      <td>2.19e-13</td>\n",
       "      <td>2.511e-11</td>\n",
       "      <td>1.67e-06</td>\n",
       "      <td>1.167e-03</td>\n",
       "      <td>6.836e-03</td>\n",
       "    </tr>\n",
       "  </tbody>\n",
       "</table>\n",
       "</div>"
      ],
      "text/plain": [
       "                             0-496ms     tw 0-4     tw 3-7    tw 6-10  \\\n",
       "6 classes               1.102000e-29  5.807e-01  1.403e-01  8.095e-11   \n",
       "12 classes - HF         2.127000e-06  4.701e-01  4.079e-01  6.416e-03   \n",
       "12 classes - IO         1.014000e-36  5.335e-01  1.569e-01  8.363e-10   \n",
       "2 classes - HF vs IO    1.325000e-46  3.792e-01  2.396e-02  4.413e-22   \n",
       "72 classes - Exemplars  4.542000e-21  5.801e-01  2.958e-01  5.488e-05   \n",
       "\n",
       "                          tw 9-13   tw 12-16   tw 15-19   tw 18-22   tw 21-25  \\\n",
       "6 classes               1.726e-23  8.314e-22  3.086e-18  4.097e-11  3.337e-06   \n",
       "12 classes - HF         3.834e-08  1.235e-06  4.179e-04  1.764e-03  1.395e-02   \n",
       "12 classes - IO         1.618e-16  3.321e-20  1.139e-21  8.363e-10  8.326e-06   \n",
       "2 classes - HF vs IO    1.211e-36  3.907e-31  1.763e-24  9.683e-16  2.281e-10   \n",
       "72 classes - Exemplars   7.95e-15   2.19e-13  2.511e-11   1.67e-06  1.167e-03   \n",
       "\n",
       "                         tw 24-28  \n",
       "6 classes               8.939e-06  \n",
       "12 classes - HF         2.834e-02  \n",
       "12 classes - IO         6.865e-04  \n",
       "2 classes - HF vs IO    2.168e-11  \n",
       "72 classes - Exemplars  6.836e-03  "
      ]
     },
     "execution_count": 80,
     "metadata": {},
     "output_type": "execute_result"
    }
   ],
   "source": [
    "import scipy\n",
    "from scipy import stats\n",
    "\n",
    "colnames = ['0-496ms', 'tw 0-4', 'tw 3-7', 'tw 6-10', 'tw 9-13', 'tw 12-16', \n",
    "              'tw 15-19', 'tw 18-22', 'tw 21-25', 'tw 24-28']\n",
    "\n",
    "rownames = a \n",
    "\n",
    "N = 5184/10\n",
    "p_priors = [1/6, 1/12, 1/12, 1/2, 1/72]\n",
    "\n",
    "# STD DF\n",
    "\n",
    "df_pval = pd.DataFrame(float(0), index=a, columns=colnames)\n",
    "\n",
    "for i in range(5):\n",
    "    x = math.floor(N*final_accuracies_mean[i]/100)\n",
    "    pr = p_priors[i]\n",
    "    #if scipy.stats.binom_test(x, N, pr) < 10**(-14):\n",
    "     #   df_pval[\"0-496ms\"][i] = 1\n",
    "    #else:\n",
    "    tmp = \"{:e}\".format(scipy.stats.binom_test(x, N, pr))\n",
    "    tmp = np.format_float_scientific(float(tmp), precision=3)\n",
    "    df_pval[\"0-496ms\"][i] = tmp\n",
    "\n",
    "for i in range(5):\n",
    "    for j in range(9):\n",
    "        x = math.floor(N*tw_accuracies_means[i,j]/100)\n",
    "        pr = p_priors[i]\n",
    "        tmp = \"{:e}\".format(scipy.stats.binom_test(x,N,pr, alternative = 'greater'))\n",
    "        tmp = np.format_float_scientific(float(tmp), precision=3)\n",
    "        df_pval.iloc[i,1+ j] = tmp\n",
    "    \n",
    "    \n",
    "    \n",
    "df_pval"
   ]
  },
  {
   "cell_type": "code",
   "execution_count": 81,
   "metadata": {},
   "outputs": [
    {
     "data": {
      "text/html": [
       "<div>\n",
       "<style scoped>\n",
       "    .dataframe tbody tr th:only-of-type {\n",
       "        vertical-align: middle;\n",
       "    }\n",
       "\n",
       "    .dataframe tbody tr th {\n",
       "        vertical-align: top;\n",
       "    }\n",
       "\n",
       "    .dataframe thead th {\n",
       "        text-align: right;\n",
       "    }\n",
       "</style>\n",
       "<table border=\"1\" class=\"dataframe\">\n",
       "  <thead>\n",
       "    <tr style=\"text-align: right;\">\n",
       "      <th></th>\n",
       "      <th></th>\n",
       "      <th>0-496ms</th>\n",
       "      <th>tw 0-4</th>\n",
       "      <th>tw 3-7</th>\n",
       "      <th>tw 6-10</th>\n",
       "      <th>tw 9-13</th>\n",
       "      <th>tw 12-16</th>\n",
       "      <th>tw 15-19</th>\n",
       "      <th>tw 18-22</th>\n",
       "      <th>tw 21-25</th>\n",
       "      <th>tw 24-28</th>\n",
       "    </tr>\n",
       "  </thead>\n",
       "  <tbody>\n",
       "    <tr>\n",
       "      <th rowspan=\"3\" valign=\"top\">6 classes</th>\n",
       "      <th>accuracy %</th>\n",
       "      <td>37.463</td>\n",
       "      <td>16.41</td>\n",
       "      <td>18.54</td>\n",
       "      <td>28.04</td>\n",
       "      <td>34.77</td>\n",
       "      <td>34.08</td>\n",
       "      <td>32.34</td>\n",
       "      <td>28.26</td>\n",
       "      <td>24.64</td>\n",
       "      <td>24.2</td>\n",
       "    </tr>\n",
       "    <tr>\n",
       "      <th>sample std</th>\n",
       "      <td>1.661</td>\n",
       "      <td>0.6504</td>\n",
       "      <td>0.4029</td>\n",
       "      <td>0.9542</td>\n",
       "      <td>1.713</td>\n",
       "      <td>2.3572</td>\n",
       "      <td>1.4505</td>\n",
       "      <td>2.0719</td>\n",
       "      <td>2.3494</td>\n",
       "      <td>3.7905</td>\n",
       "    </tr>\n",
       "    <tr>\n",
       "      <th>p-value</th>\n",
       "      <td>1.102e-29</td>\n",
       "      <td>5.807e-01</td>\n",
       "      <td>1.403e-01</td>\n",
       "      <td>8.095e-11</td>\n",
       "      <td>1.726e-23</td>\n",
       "      <td>8.314e-22</td>\n",
       "      <td>3.086e-18</td>\n",
       "      <td>4.097e-11</td>\n",
       "      <td>3.337e-06</td>\n",
       "      <td>8.939e-06</td>\n",
       "    </tr>\n",
       "    <tr>\n",
       "      <th rowspan=\"3\" valign=\"top\">12 classes - HF</th>\n",
       "      <th>accuracy %</th>\n",
       "      <td>14.791</td>\n",
       "      <td>8.58</td>\n",
       "      <td>8.72</td>\n",
       "      <td>11.69</td>\n",
       "      <td>15.74</td>\n",
       "      <td>14.75</td>\n",
       "      <td>12.75</td>\n",
       "      <td>12.2</td>\n",
       "      <td>11.34</td>\n",
       "      <td>10.92</td>\n",
       "    </tr>\n",
       "    <tr>\n",
       "      <th>sample std</th>\n",
       "      <td>1.936</td>\n",
       "      <td>1.6389</td>\n",
       "      <td>1.0324</td>\n",
       "      <td>1.7731</td>\n",
       "      <td>1.8993</td>\n",
       "      <td>1.9021</td>\n",
       "      <td>1.9262</td>\n",
       "      <td>1.8309</td>\n",
       "      <td>1.95</td>\n",
       "      <td>0.974</td>\n",
       "    </tr>\n",
       "    <tr>\n",
       "      <th>p-value</th>\n",
       "      <td>2.127e-06</td>\n",
       "      <td>4.701e-01</td>\n",
       "      <td>4.079e-01</td>\n",
       "      <td>6.416e-03</td>\n",
       "      <td>3.834e-08</td>\n",
       "      <td>1.235e-06</td>\n",
       "      <td>4.179e-04</td>\n",
       "      <td>1.764e-03</td>\n",
       "      <td>1.395e-02</td>\n",
       "      <td>2.834e-02</td>\n",
       "    </tr>\n",
       "    <tr>\n",
       "      <th rowspan=\"3\" valign=\"top\">12 classes - IO</th>\n",
       "      <th>accuracy %</th>\n",
       "      <td>27.211</td>\n",
       "      <td>8.34</td>\n",
       "      <td>9.72</td>\n",
       "      <td>16.67</td>\n",
       "      <td>19.95</td>\n",
       "      <td>21.57</td>\n",
       "      <td>22.17</td>\n",
       "      <td>16.67</td>\n",
       "      <td>14.1</td>\n",
       "      <td>12.59</td>\n",
       "    </tr>\n",
       "    <tr>\n",
       "      <th>sample std</th>\n",
       "      <td>5.723</td>\n",
       "      <td>0.4869</td>\n",
       "      <td>0.8308</td>\n",
       "      <td>2.6852</td>\n",
       "      <td>5.3198</td>\n",
       "      <td>6.0019</td>\n",
       "      <td>6.37</td>\n",
       "      <td>3.3409</td>\n",
       "      <td>3.5925</td>\n",
       "      <td>1.4584</td>\n",
       "    </tr>\n",
       "    <tr>\n",
       "      <th>p-value</th>\n",
       "      <td>1.014e-36</td>\n",
       "      <td>5.335e-01</td>\n",
       "      <td>1.569e-01</td>\n",
       "      <td>8.363e-10</td>\n",
       "      <td>1.618e-16</td>\n",
       "      <td>3.321e-20</td>\n",
       "      <td>1.139e-21</td>\n",
       "      <td>8.363e-10</td>\n",
       "      <td>8.326e-06</td>\n",
       "      <td>6.865e-04</td>\n",
       "    </tr>\n",
       "    <tr>\n",
       "      <th rowspan=\"3\" valign=\"top\">2 classes - HF vs IO</th>\n",
       "      <th>accuracy %</th>\n",
       "      <td>80.509</td>\n",
       "      <td>50.78</td>\n",
       "      <td>54.47</td>\n",
       "      <td>70.85</td>\n",
       "      <td>77.14</td>\n",
       "      <td>74.9</td>\n",
       "      <td>71.98</td>\n",
       "      <td>67.36</td>\n",
       "      <td>63.66</td>\n",
       "      <td>64.46</td>\n",
       "    </tr>\n",
       "    <tr>\n",
       "      <th>sample std</th>\n",
       "      <td>1.523</td>\n",
       "      <td>1.557</td>\n",
       "      <td>2.0009</td>\n",
       "      <td>1.6855</td>\n",
       "      <td>0.9515</td>\n",
       "      <td>3.164</td>\n",
       "      <td>2.4646</td>\n",
       "      <td>3.5935</td>\n",
       "      <td>5.2983</td>\n",
       "      <td>4.9621</td>\n",
       "    </tr>\n",
       "    <tr>\n",
       "      <th>p-value</th>\n",
       "      <td>1.325e-46</td>\n",
       "      <td>3.792e-01</td>\n",
       "      <td>2.396e-02</td>\n",
       "      <td>4.413e-22</td>\n",
       "      <td>1.211e-36</td>\n",
       "      <td>3.907e-31</td>\n",
       "      <td>1.763e-24</td>\n",
       "      <td>9.683e-16</td>\n",
       "      <td>2.281e-10</td>\n",
       "      <td>2.168e-11</td>\n",
       "    </tr>\n",
       "    <tr>\n",
       "      <th rowspan=\"3\" valign=\"top\">72 classes - Exemplars</th>\n",
       "      <th>accuracy %</th>\n",
       "      <td>8.542</td>\n",
       "      <td>1.36</td>\n",
       "      <td>1.75</td>\n",
       "      <td>4.02</td>\n",
       "      <td>6.97</td>\n",
       "      <td>6.63</td>\n",
       "      <td>6.05</td>\n",
       "      <td>4.54</td>\n",
       "      <td>3.43</td>\n",
       "      <td>3</td>\n",
       "    </tr>\n",
       "    <tr>\n",
       "      <th>sample std</th>\n",
       "      <td>3.314</td>\n",
       "      <td>0.1116</td>\n",
       "      <td>0.1961</td>\n",
       "      <td>0.6209</td>\n",
       "      <td>1.9255</td>\n",
       "      <td>2.5032</td>\n",
       "      <td>2.2325</td>\n",
       "      <td>1.7331</td>\n",
       "      <td>1.214</td>\n",
       "      <td>0.7073</td>\n",
       "    </tr>\n",
       "    <tr>\n",
       "      <th>p-value</th>\n",
       "      <td>4.542e-21</td>\n",
       "      <td>5.801e-01</td>\n",
       "      <td>2.958e-01</td>\n",
       "      <td>5.488e-05</td>\n",
       "      <td>7.95e-15</td>\n",
       "      <td>2.19e-13</td>\n",
       "      <td>2.511e-11</td>\n",
       "      <td>1.67e-06</td>\n",
       "      <td>1.167e-03</td>\n",
       "      <td>6.836e-03</td>\n",
       "    </tr>\n",
       "  </tbody>\n",
       "</table>\n",
       "</div>"
      ],
      "text/plain": [
       "                                     0-496ms     tw 0-4     tw 3-7    tw 6-10  \\\n",
       "6 classes              accuracy %     37.463      16.41      18.54      28.04   \n",
       "                       sample std      1.661     0.6504     0.4029     0.9542   \n",
       "                       p-value     1.102e-29  5.807e-01  1.403e-01  8.095e-11   \n",
       "12 classes - HF        accuracy %     14.791       8.58       8.72      11.69   \n",
       "                       sample std      1.936     1.6389     1.0324     1.7731   \n",
       "                       p-value     2.127e-06  4.701e-01  4.079e-01  6.416e-03   \n",
       "12 classes - IO        accuracy %     27.211       8.34       9.72      16.67   \n",
       "                       sample std      5.723     0.4869     0.8308     2.6852   \n",
       "                       p-value     1.014e-36  5.335e-01  1.569e-01  8.363e-10   \n",
       "2 classes - HF vs IO   accuracy %     80.509      50.78      54.47      70.85   \n",
       "                       sample std      1.523      1.557     2.0009     1.6855   \n",
       "                       p-value     1.325e-46  3.792e-01  2.396e-02  4.413e-22   \n",
       "72 classes - Exemplars accuracy %      8.542       1.36       1.75       4.02   \n",
       "                       sample std      3.314     0.1116     0.1961     0.6209   \n",
       "                       p-value     4.542e-21  5.801e-01  2.958e-01  5.488e-05   \n",
       "\n",
       "                                     tw 9-13   tw 12-16   tw 15-19   tw 18-22  \\\n",
       "6 classes              accuracy %      34.77      34.08      32.34      28.26   \n",
       "                       sample std      1.713     2.3572     1.4505     2.0719   \n",
       "                       p-value     1.726e-23  8.314e-22  3.086e-18  4.097e-11   \n",
       "12 classes - HF        accuracy %      15.74      14.75      12.75       12.2   \n",
       "                       sample std     1.8993     1.9021     1.9262     1.8309   \n",
       "                       p-value     3.834e-08  1.235e-06  4.179e-04  1.764e-03   \n",
       "12 classes - IO        accuracy %      19.95      21.57      22.17      16.67   \n",
       "                       sample std     5.3198     6.0019       6.37     3.3409   \n",
       "                       p-value     1.618e-16  3.321e-20  1.139e-21  8.363e-10   \n",
       "2 classes - HF vs IO   accuracy %      77.14       74.9      71.98      67.36   \n",
       "                       sample std     0.9515      3.164     2.4646     3.5935   \n",
       "                       p-value     1.211e-36  3.907e-31  1.763e-24  9.683e-16   \n",
       "72 classes - Exemplars accuracy %       6.97       6.63       6.05       4.54   \n",
       "                       sample std     1.9255     2.5032     2.2325     1.7331   \n",
       "                       p-value      7.95e-15   2.19e-13  2.511e-11   1.67e-06   \n",
       "\n",
       "                                    tw 21-25   tw 24-28  \n",
       "6 classes              accuracy %      24.64       24.2  \n",
       "                       sample std     2.3494     3.7905  \n",
       "                       p-value     3.337e-06  8.939e-06  \n",
       "12 classes - HF        accuracy %      11.34      10.92  \n",
       "                       sample std       1.95      0.974  \n",
       "                       p-value     1.395e-02  2.834e-02  \n",
       "12 classes - IO        accuracy %       14.1      12.59  \n",
       "                       sample std     3.5925     1.4584  \n",
       "                       p-value     8.326e-06  6.865e-04  \n",
       "2 classes - HF vs IO   accuracy %      63.66      64.46  \n",
       "                       sample std     5.2983     4.9621  \n",
       "                       p-value     2.281e-10  2.168e-11  \n",
       "72 classes - Exemplars accuracy %       3.43          3  \n",
       "                       sample std      1.214     0.7073  \n",
       "                       p-value     1.167e-03  6.836e-03  "
      ]
     },
     "execution_count": 81,
     "metadata": {},
     "output_type": "execute_result"
    }
   ],
   "source": [
    "colnames = ['0-496ms', 'tw 0-4', 'tw 3-7', 'tw 6-10', 'tw 9-13', 'tw 12-16', \n",
    "              'tw 15-19', 'tw 18-22', 'tw 21-25', 'tw 24-28']\n",
    "\n",
    "arrays = [['6 classes',\n",
    " '6 classes',\n",
    " '6 classes',\n",
    " '12 classes - HF',\n",
    " '12 classes - HF',\n",
    " '12 classes - HF',\n",
    " '12 classes - IO',\n",
    " '12 classes - IO',\n",
    " '12 classes - IO',\n",
    " '2 classes - HF vs IO',\n",
    " '2 classes - HF vs IO',\n",
    " '2 classes - HF vs IO',\n",
    " '72 classes - Exemplars',\n",
    " '72 classes - Exemplars',\n",
    " '72 classes - Exemplars'],\n",
    "    ['accuracy %', 'sample std', 'p-value','accuracy %', 'sample std', 'p-value',\n",
    "    'accuracy %', 'sample std', 'p-value','accuracy %', 'sample std', 'p-value',\n",
    "    'accuracy %', 'sample std', 'p-value']]\n",
    "\n",
    "tuples = list(zip(*arrays))\n",
    "# STD DF\n",
    "\n",
    "index = pd.MultiIndex.from_tuples(tuples)\n",
    "\n",
    "df = pd.DataFrame(0, index=index, columns=colnames)\n",
    "df\n",
    "\n",
    "j = 0\n",
    "for i in range(0,15,3):\n",
    "    df.iloc[i] = df_acc.iloc[j]\n",
    "    df.iloc[i+1] = df_std.iloc[j]\n",
    "    df.iloc[i+2] = df_pval.iloc[j]\n",
    "    j = j+1\n",
    "df[\"0-496ms\"] = df[\"0-496ms\"].apply(lambda x: '%3f' % x if x>0.00001 else x)\n",
    "df[\"0-496ms\"] = df[\"0-496ms\"].apply(lambda x: str(x).rstrip(\"0\"))\n",
    "df"
   ]
  }
 ],
 "metadata": {
  "kernelspec": {
   "display_name": "Python 3",
   "language": "python",
   "name": "python3"
  },
  "language_info": {
   "codemirror_mode": {
    "name": "ipython",
    "version": 3
   },
   "file_extension": ".py",
   "mimetype": "text/x-python",
   "name": "python",
   "nbconvert_exporter": "python",
   "pygments_lexer": "ipython3",
   "version": "3.7.6"
  }
 },
 "nbformat": 4,
 "nbformat_minor": 4
}
