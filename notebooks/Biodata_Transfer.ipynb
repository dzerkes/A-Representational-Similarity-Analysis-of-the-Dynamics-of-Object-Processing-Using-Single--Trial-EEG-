{
  "nbformat": 4,
  "nbformat_minor": 0,
  "metadata": {
    "kernelspec": {
      "display_name": "Python 3",
      "language": "python",
      "name": "python3"
    },
    "language_info": {
      "codemirror_mode": {
        "name": "ipython",
        "version": 3
      },
      "file_extension": ".py",
      "mimetype": "text/x-python",
      "name": "python",
      "nbconvert_exporter": "python",
      "pygments_lexer": "ipython3",
      "version": "3.7.4"
    },
    "colab": {
      "name": "Biodata_Transfer.ipynb",
      "provenance": [],
      "collapsed_sections": []
    },
    "accelerator": "GPU"
  },
  "cells": [
    {
      "cell_type": "code",
      "metadata": {
        "id": "thCYordpBikb",
        "colab_type": "code",
        "colab": {}
      },
      "source": [
        "#!/usr/bin/env python\n",
        "# coding: utf-8\n",
        "import numpy as np\n",
        "from keras.callbacks import Callback\n",
        "from scipy.io import loadmat\n",
        "get_ipython().run_line_magic('matplotlib', 'inline')\n",
        "import matplotlib.pyplot as plt\n",
        "import keras\n",
        "from keras.models import Sequential\n",
        "import itertools\n",
        "from sklearn.metrics import confusion_matrix\n",
        "from keras.layers import Dense, Dropout, Flatten, Conv2D, MaxPool2D, BatchNormalization,Activation\n",
        "from keras.optimizers import Adam,Nadam\n",
        "from numpy import linalg as la\n",
        "from sklearn import preprocessing\n",
        "from keras import regularizers\n",
        "import matplotlib.ticker as plticker\n",
        "\n",
        "!pip install -U -q PyDrive\n",
        "from pydrive.auth import GoogleAuth\n",
        "from pydrive.drive import GoogleDrive\n",
        "from google.colab import auth\n",
        "from oauth2client.client import GoogleCredentials\n",
        "\n",
        "auth.authenticate_user()\n",
        "gauth = GoogleAuth()\n",
        "gauth.credentials = GoogleCredentials.get_application_default()\n",
        "drive = GoogleDrive(gauth)\n",
        "\n",
        "downloaded = drive.CreateFile({'id':'1_AXrew2Gh87Kq7Hekj0hNVZv3mrrNoUL'}) # add id\n",
        "downloaded.GetContentFile('S10.mat')"
      ],
      "execution_count": 6,
      "outputs": []
    },
    {
      "cell_type": "code",
      "metadata": {
        "id": "HZ9KaqiWBik2",
        "colab_type": "code",
        "colab": {}
      },
      "source": [
        "def plot_confusion_matrix(cm, classes,\n",
        "                          normalize=True,\n",
        "                          title='Confusion matrix',\n",
        "                          cmap=plt.cm.Blues):\n",
        "    \"\"\"\n",
        "    This function prints and plots the confusion matrix.\n",
        "    Normalization can be applied by setting `normalize=True`.\n",
        "    \"\"\"\n",
        "    if normalize:\n",
        "        cm = cm.astype('float') / cm.sum(axis=1)[:, np.newaxis]\n",
        "        print(\"Normalized confusion matrix\")\n",
        "    else:\n",
        "        print('Confusion matrix, without normalization')\n",
        "\n",
        "    print(cm)\n",
        "\n",
        "    plt.imshow(cm, interpolation='nearest', cmap=cmap)\n",
        "    plt.title(title)\n",
        "    plt.colorbar()\n",
        "    tick_marks = np.arange(len(classes))\n",
        "    plt.xticks(tick_marks, classes, rotation=90)\n",
        "    plt.yticks(tick_marks, classes)\n",
        "\n",
        "    fmt = '.2f' if normalize else 'd'\n",
        "    thresh = cm.max() / 2.\n",
        "    for i, j in itertools.product(range(cm.shape[0]), range(cm.shape[1])):\n",
        "        plt.text(j, i, format(cm[i, j], fmt),\n",
        "                 horizontalalignment=\"center\",\n",
        "                 color=\"white\" if cm[i, j] > thresh else \"black\")\n",
        "\n",
        "    plt.ylabel('True label')\n",
        "    plt.xlabel('Predicted label')\n",
        "    plt.tight_layout()\n",
        "\n"
      ],
      "execution_count": 7,
      "outputs": []
    },
    {
      "cell_type": "markdown",
      "metadata": {
        "id": "XiF-UysCZXmA",
        "colab_type": "text"
      },
      "source": [
        "6 classes"
      ]
    },
    {
      "cell_type": "code",
      "metadata": {
        "id": "8iqB-qBJ8Wji",
        "colab_type": "code",
        "colab": {}
      },
      "source": [
        "electrodes=124\n",
        "N=32\n",
        "mat = loadmat(\"S10.mat\")\n",
        "X_2D = np.array(mat[\"X_2D\"])\n",
        "\n",
        "#normalization of X_2D\n",
        "#X = preprocessing.normalize(X_2D)\n",
        "X = X_2D\n",
        "#get labels\n",
        "y = np.array(mat[\"categoryLabels\"]).ravel()\n",
        "\n",
        "X_training = X[:int(0.8*len(X))]\n",
        "X_validation = X[int(0.8*len(X)):]\n",
        "\n",
        "y_training = y[:int(0.8*len(X))]\n",
        "y_validation = y[int(0.8*len(X)):]\n",
        "\n",
        "num_classes = 6\n",
        "y_training1hot = keras.utils.to_categorical(y_training - 1, num_classes) # We subtract 1 to convert to 0-index\n",
        "y_validation1hot = keras.utils.to_categorical(y_validation - 1, num_classes)\n",
        "\n",
        "\n",
        "X_training = np.reshape(X_training, (-1, electrodes, N, 1))\n",
        "X_validation = np.reshape(X_validation, (-1, electrodes, N, 1))\n",
        "\n",
        "X_training_pad = np.zeros((X_training.shape[0], 124, 32, 3))\n",
        "\n",
        "X_training_pad[:X_training.shape[0],:X_training.shape[1],:X_training.shape[2]] = X_training \n",
        "\n",
        "X_validation_pad = np.zeros((X_validation.shape[0], 124, 32, 3))\n",
        "\n",
        "X_validation_pad[:X_validation.shape[0],:X_validation.shape[1],:X_validation.shape[2]] = X_validation\n",
        " \n",
        "traingen = keras.preprocessing.image.ImageDataGenerator().flow(X_training_pad,y_training1hot)\n",
        "validgen =  keras.preprocessing.image.ImageDataGenerator().flow(X_validation_pad,y_validation1hot)"
      ],
      "execution_count": 12,
      "outputs": []
    },
    {
      "cell_type": "code",
      "metadata": {
        "id": "wAnbCg5j8YU5",
        "colab_type": "code",
        "colab": {
          "base_uri": "https://localhost:8080/",
          "height": 881
        },
        "outputId": "4e57b4da-9100-4d4a-b81a-ce915921d8aa"
      },
      "source": [
        "\n",
        "vgg16_model = keras.applications.vgg16.VGG16(include_top=False,input_tensor=keras.Input(shape=(124, 32,3)))\n",
        "vgg16_model.summary()"
      ],
      "execution_count": 8,
      "outputs": [
        {
          "output_type": "stream",
          "text": [
            "Downloading data from https://github.com/fchollet/deep-learning-models/releases/download/v0.1/vgg16_weights_tf_dim_ordering_tf_kernels_notop.h5\n",
            "58892288/58889256 [==============================] - 1s 0us/step\n",
            "Model: \"vgg16\"\n",
            "_________________________________________________________________\n",
            "Layer (type)                 Output Shape              Param #   \n",
            "=================================================================\n",
            "input_1 (InputLayer)         (None, 124, 32, 3)        0         \n",
            "_________________________________________________________________\n",
            "block1_conv1 (Conv2D)        (None, 124, 32, 64)       1792      \n",
            "_________________________________________________________________\n",
            "block1_conv2 (Conv2D)        (None, 124, 32, 64)       36928     \n",
            "_________________________________________________________________\n",
            "block1_pool (MaxPooling2D)   (None, 62, 16, 64)        0         \n",
            "_________________________________________________________________\n",
            "block2_conv1 (Conv2D)        (None, 62, 16, 128)       73856     \n",
            "_________________________________________________________________\n",
            "block2_conv2 (Conv2D)        (None, 62, 16, 128)       147584    \n",
            "_________________________________________________________________\n",
            "block2_pool (MaxPooling2D)   (None, 31, 8, 128)        0         \n",
            "_________________________________________________________________\n",
            "block3_conv1 (Conv2D)        (None, 31, 8, 256)        295168    \n",
            "_________________________________________________________________\n",
            "block3_conv2 (Conv2D)        (None, 31, 8, 256)        590080    \n",
            "_________________________________________________________________\n",
            "block3_conv3 (Conv2D)        (None, 31, 8, 256)        590080    \n",
            "_________________________________________________________________\n",
            "block3_pool (MaxPooling2D)   (None, 15, 4, 256)        0         \n",
            "_________________________________________________________________\n",
            "block4_conv1 (Conv2D)        (None, 15, 4, 512)        1180160   \n",
            "_________________________________________________________________\n",
            "block4_conv2 (Conv2D)        (None, 15, 4, 512)        2359808   \n",
            "_________________________________________________________________\n",
            "block4_conv3 (Conv2D)        (None, 15, 4, 512)        2359808   \n",
            "_________________________________________________________________\n",
            "block4_pool (MaxPooling2D)   (None, 7, 2, 512)         0         \n",
            "_________________________________________________________________\n",
            "block5_conv1 (Conv2D)        (None, 7, 2, 512)         2359808   \n",
            "_________________________________________________________________\n",
            "block5_conv2 (Conv2D)        (None, 7, 2, 512)         2359808   \n",
            "_________________________________________________________________\n",
            "block5_conv3 (Conv2D)        (None, 7, 2, 512)         2359808   \n",
            "_________________________________________________________________\n",
            "block5_pool (MaxPooling2D)   (None, 3, 1, 512)         0         \n",
            "=================================================================\n",
            "Total params: 14,714,688\n",
            "Trainable params: 14,714,688\n",
            "Non-trainable params: 0\n",
            "_________________________________________________________________\n"
          ],
          "name": "stdout"
        }
      ]
    },
    {
      "cell_type": "code",
      "metadata": {
        "id": "Pnn6yZ9D__IS",
        "colab_type": "code",
        "colab": {
          "base_uri": "https://localhost:8080/",
          "height": 989
        },
        "outputId": "9a62d426-e23a-427f-f298-7bf718b52174"
      },
      "source": [
        "model = Sequential()\n",
        "\n",
        "for layer in vgg16_model.layers:\n",
        "  model.add(layer)\n",
        "\n",
        "model.layers.pop()\n",
        "\n",
        "for layer in model.layers:\n",
        "  layer.trainable = False\n",
        "\n",
        "model.add(Flatten())\n",
        "model.add(Dense(124,activation=\"relu\"))\n",
        "model.add(Dense(62,activation=\"relu\"))\n",
        "model.add(Dense(32,activation=\"relu\"))\n",
        "model.add(Dense(6,activation='softmax'))\n",
        "\n",
        "model.summary()\n",
        "\n",
        "model.compile(Nadam(lr=0.0001),loss='categorical_crossentropy',metrics=['accuracy'])"
      ],
      "execution_count": 9,
      "outputs": [
        {
          "output_type": "stream",
          "text": [
            "Model: \"sequential_1\"\n",
            "_________________________________________________________________\n",
            "Layer (type)                 Output Shape              Param #   \n",
            "=================================================================\n",
            "block1_conv1 (Conv2D)        (None, 124, 32, 64)       1792      \n",
            "_________________________________________________________________\n",
            "block1_conv2 (Conv2D)        (None, 124, 32, 64)       36928     \n",
            "_________________________________________________________________\n",
            "block1_pool (MaxPooling2D)   (None, 62, 16, 64)        0         \n",
            "_________________________________________________________________\n",
            "block2_conv1 (Conv2D)        (None, 62, 16, 128)       73856     \n",
            "_________________________________________________________________\n",
            "block2_conv2 (Conv2D)        (None, 62, 16, 128)       147584    \n",
            "_________________________________________________________________\n",
            "block2_pool (MaxPooling2D)   (None, 31, 8, 128)        0         \n",
            "_________________________________________________________________\n",
            "block3_conv1 (Conv2D)        (None, 31, 8, 256)        295168    \n",
            "_________________________________________________________________\n",
            "block3_conv2 (Conv2D)        (None, 31, 8, 256)        590080    \n",
            "_________________________________________________________________\n",
            "block3_conv3 (Conv2D)        (None, 31, 8, 256)        590080    \n",
            "_________________________________________________________________\n",
            "block3_pool (MaxPooling2D)   (None, 15, 4, 256)        0         \n",
            "_________________________________________________________________\n",
            "block4_conv1 (Conv2D)        (None, 15, 4, 512)        1180160   \n",
            "_________________________________________________________________\n",
            "block4_conv2 (Conv2D)        (None, 15, 4, 512)        2359808   \n",
            "_________________________________________________________________\n",
            "block4_conv3 (Conv2D)        (None, 15, 4, 512)        2359808   \n",
            "_________________________________________________________________\n",
            "block4_pool (MaxPooling2D)   (None, 7, 2, 512)         0         \n",
            "_________________________________________________________________\n",
            "block5_conv1 (Conv2D)        (None, 7, 2, 512)         2359808   \n",
            "_________________________________________________________________\n",
            "block5_conv2 (Conv2D)        (None, 7, 2, 512)         2359808   \n",
            "_________________________________________________________________\n",
            "block5_conv3 (Conv2D)        (None, 7, 2, 512)         2359808   \n",
            "_________________________________________________________________\n",
            "block5_pool (MaxPooling2D)   (None, 3, 1, 512)         0         \n",
            "_________________________________________________________________\n",
            "flatten_1 (Flatten)          (None, 1536)              0         \n",
            "_________________________________________________________________\n",
            "dense_1 (Dense)              (None, 124)               190588    \n",
            "_________________________________________________________________\n",
            "dense_2 (Dense)              (None, 62)                7750      \n",
            "_________________________________________________________________\n",
            "dense_3 (Dense)              (None, 32)                2016      \n",
            "_________________________________________________________________\n",
            "dense_4 (Dense)              (None, 6)                 198       \n",
            "=================================================================\n",
            "Total params: 14,915,240\n",
            "Trainable params: 200,552\n",
            "Non-trainable params: 14,714,688\n",
            "_________________________________________________________________\n"
          ],
          "name": "stdout"
        }
      ]
    },
    {
      "cell_type": "code",
      "metadata": {
        "id": "i-c13bZIWkPH",
        "colab_type": "code",
        "colab": {
          "base_uri": "https://localhost:8080/",
          "height": 35
        },
        "outputId": "5c56d958-542a-4ad3-eeec-6a7bc51f62a9"
      },
      "source": [
        "%tensorflow_version 2.x\n",
        "import tensorflow as tf\n",
        "device_name = tf.test.gpu_device_name()\n",
        "if device_name != '/device:GPU:0':\n",
        "  raise SystemError('GPU device not found')\n",
        "print('Found GPU at: {}'.format(device_name))"
      ],
      "execution_count": 10,
      "outputs": [
        {
          "output_type": "stream",
          "text": [
            "Found GPU at: /device:GPU:0\n"
          ],
          "name": "stdout"
        }
      ]
    },
    {
      "cell_type": "code",
      "metadata": {
        "id": "MrLsZJXQBbFE",
        "colab_type": "code",
        "colab": {
          "base_uri": "https://localhost:8080/",
          "height": 377
        },
        "outputId": "9d77e0c9-a0ab-405f-8315-ad14a8261b04"
      },
      "source": [
        "\n",
        "with tf.device('/device:GPU:0'):\n",
        "  history = model.fit_generator(traingen,validation_data=validgen,epochs=10,verbose=2)"
      ],
      "execution_count": 13,
      "outputs": [
        {
          "output_type": "stream",
          "text": [
            "Epoch 1/10\n",
            " - 14s - loss: 1.7979 - accuracy: 0.1584 - val_loss: 1.7901 - val_accuracy: 0.1803\n",
            "Epoch 2/10\n",
            " - 6s - loss: 1.7908 - accuracy: 0.1758 - val_loss: 1.8431 - val_accuracy: 0.1948\n",
            "Epoch 3/10\n",
            " - 6s - loss: 1.7879 - accuracy: 0.1837 - val_loss: 1.7391 - val_accuracy: 0.1967\n",
            "Epoch 4/10\n",
            " - 6s - loss: 1.7824 - accuracy: 0.1994 - val_loss: 1.8510 - val_accuracy: 0.2044\n",
            "Epoch 5/10\n",
            " - 6s - loss: 1.7801 - accuracy: 0.2112 - val_loss: 1.7939 - val_accuracy: 0.1967\n",
            "Epoch 6/10\n",
            " - 6s - loss: 1.7758 - accuracy: 0.2035 - val_loss: 1.8046 - val_accuracy: 0.1986\n",
            "Epoch 7/10\n",
            " - 6s - loss: 1.7722 - accuracy: 0.2071 - val_loss: 1.7530 - val_accuracy: 0.2006\n",
            "Epoch 8/10\n",
            " - 6s - loss: 1.7673 - accuracy: 0.2202 - val_loss: 1.8202 - val_accuracy: 0.2112\n",
            "Epoch 9/10\n",
            " - 6s - loss: 1.7625 - accuracy: 0.2313 - val_loss: 1.8604 - val_accuracy: 0.1803\n",
            "Epoch 10/10\n",
            " - 6s - loss: 1.7582 - accuracy: 0.2332 - val_loss: 1.7517 - val_accuracy: 0.2083\n"
          ],
          "name": "stdout"
        }
      ]
    },
    {
      "cell_type": "code",
      "metadata": {
        "id": "VHQ_276-BepR",
        "colab_type": "code",
        "colab": {
          "base_uri": "https://localhost:8080/",
          "height": 143
        },
        "outputId": "e319ea2f-76a2-46dc-e7a4-f51f0b16b36f"
      },
      "source": [
        "y_validation_predictions = model.predict_generator(validgen, verbose=1)\n",
        "cnf_matrix1 = confusion_matrix(y_validation-1, np.argmax(y_validation_predictions, axis=1))\n",
        "cnf_matrix1"
      ],
      "execution_count": 15,
      "outputs": [
        {
          "output_type": "stream",
          "text": [
            "33/33 [==============================] - 1s 38ms/step\n"
          ],
          "name": "stdout"
        },
        {
          "output_type": "execute_result",
          "data": {
            "text/plain": [
              "array([[29, 28, 21, 29, 39, 27],\n",
              "       [27, 18, 21, 39, 32, 37],\n",
              "       [24, 29, 15, 32, 33, 40],\n",
              "       [29, 29, 19, 34, 29, 33],\n",
              "       [33, 28, 17, 33, 33, 28],\n",
              "       [29, 27, 23, 26, 37, 30]])"
            ]
          },
          "metadata": {
            "tags": []
          },
          "execution_count": 15
        }
      ]
    },
    {
      "cell_type": "markdown",
      "metadata": {
        "id": "SVMkGiQPZVbp",
        "colab_type": "text"
      },
      "source": [
        "12 classes\n"
      ]
    },
    {
      "cell_type": "code",
      "metadata": {
        "id": "2uV2X2m7Yzb8",
        "colab_type": "code",
        "colab": {
          "base_uri": "https://localhost:8080/",
          "height": 1000
        },
        "outputId": "8f2f47e9-f012-4972-af97-dde94dab7157"
      },
      "source": [
        "mat = loadmat('S10.mat')\n",
        "X = np.array(mat[\"X_2D\"])\n",
        "y = np.array(mat[\"exemplarLabels\"]).ravel()\n",
        "\n",
        "y_hf =[]\n",
        "X_hf = []\n",
        "for i in range(0,len(X)):\n",
        "    if (12 < y[i] < 25):\n",
        "        y_hf.append(y[i])\n",
        "        X_hf.append(X[i])\n",
        "\n",
        "X_hf = np.array(X_hf)\n",
        "y_hf = np.array(y_hf).ravel()\n",
        "\n",
        "le = preprocessing.LabelEncoder()\n",
        "le.fit(y_hf)\n",
        "y_hf = le.transform(y_hf)\n",
        "\n",
        "X_training = X_hf[:int(0.8*len(X_hf))]\n",
        "X_validation = X_hf[int(0.8*len(X_hf)):]\n",
        "\n",
        "y_training = y_hf[:int(0.8*len(X_hf))]\n",
        "y_validation = y_hf[int(0.8*len(X_hf)):]\n",
        "\n",
        "num_classes = 12\n",
        "y_training1hot = keras.utils.to_categorical(y_training - 1, num_classes) # We subtract 1 to convert to 0-index\n",
        "y_validation1hot = keras.utils.to_categorical(y_validation - 1, num_classes)\n",
        "\n",
        "X_training = np.reshape(X_training, (-1, electrodes, N, 1))\n",
        "X_validation = np.reshape(X_validation, (-1, electrodes, N, 1))\n",
        "\n",
        "X_training_pad = np.zeros((X_training.shape[0], 124, 32, 3))\n",
        "\n",
        "X_training_pad[:X_training.shape[0],:X_training.shape[1],:X_training.shape[2]] = X_training \n",
        "\n",
        "X_validation_pad = np.zeros((X_validation.shape[0], 124, 32, 3))\n",
        "\n",
        "X_validation_pad[:X_validation.shape[0],:X_validation.shape[1],:X_validation.shape[2]] = X_validation\n",
        " \n",
        "traingen = keras.preprocessing.image.ImageDataGenerator().flow(X_training_pad,y_training1hot)\n",
        "validgen =  keras.preprocessing.image.ImageDataGenerator().flow(X_validation_pad,y_validation1hot)\n",
        "\n",
        "model = Sequential()\n",
        "\n",
        "for layer in vgg16_model.layers:\n",
        "  model.add(layer)\n",
        "\n",
        "model.layers.pop()\n",
        "\n",
        "for layer in model.layers:\n",
        "  layer.trainable = False\n",
        "\n",
        "model.add(Flatten())\n",
        "model.add(Dense(124,activation=\"relu\"))\n",
        "model.add(Dense(62,activation=\"relu\"))\n",
        "model.add(Dense(32,activation=\"relu\"))\n",
        "model.add(Dense(12,activation='softmax'))\n",
        "\n",
        "model.summary()\n",
        "\n",
        "model.compile(Nadam(lr=0.0001),loss='categorical_crossentropy',metrics=['accuracy'])\n",
        "\n",
        "with tf.device('/device:GPU:0'):\n",
        "  history = model.fit_generator(traingen,validation_data=validgen,epochs=10,verbose=2)\n",
        "\n",
        "y_validation_predictions = model.predict_generator(validgen, verbose=1)\n",
        "cnf_matrix2 = confusion_matrix(y_validation-1, np.argmax(y_validation_predictions, axis=1))\n",
        "cnf_matrix2\n",
        "\n",
        "\n",
        "\n",
        "\n",
        "\n"
      ],
      "execution_count": 16,
      "outputs": [
        {
          "output_type": "stream",
          "text": [
            "Model: \"sequential_2\"\n",
            "_________________________________________________________________\n",
            "Layer (type)                 Output Shape              Param #   \n",
            "=================================================================\n",
            "block1_conv1 (Conv2D)        (None, 124, 32, 64)       1792      \n",
            "_________________________________________________________________\n",
            "block1_conv2 (Conv2D)        (None, 124, 32, 64)       36928     \n",
            "_________________________________________________________________\n",
            "block1_pool (MaxPooling2D)   (None, 62, 16, 64)        0         \n",
            "_________________________________________________________________\n",
            "block2_conv1 (Conv2D)        (None, 62, 16, 128)       73856     \n",
            "_________________________________________________________________\n",
            "block2_conv2 (Conv2D)        (None, 62, 16, 128)       147584    \n",
            "_________________________________________________________________\n",
            "block2_pool (MaxPooling2D)   (None, 31, 8, 128)        0         \n",
            "_________________________________________________________________\n",
            "block3_conv1 (Conv2D)        (None, 31, 8, 256)        295168    \n",
            "_________________________________________________________________\n",
            "block3_conv2 (Conv2D)        (None, 31, 8, 256)        590080    \n",
            "_________________________________________________________________\n",
            "block3_conv3 (Conv2D)        (None, 31, 8, 256)        590080    \n",
            "_________________________________________________________________\n",
            "block3_pool (MaxPooling2D)   (None, 15, 4, 256)        0         \n",
            "_________________________________________________________________\n",
            "block4_conv1 (Conv2D)        (None, 15, 4, 512)        1180160   \n",
            "_________________________________________________________________\n",
            "block4_conv2 (Conv2D)        (None, 15, 4, 512)        2359808   \n",
            "_________________________________________________________________\n",
            "block4_conv3 (Conv2D)        (None, 15, 4, 512)        2359808   \n",
            "_________________________________________________________________\n",
            "block4_pool (MaxPooling2D)   (None, 7, 2, 512)         0         \n",
            "_________________________________________________________________\n",
            "block5_conv1 (Conv2D)        (None, 7, 2, 512)         2359808   \n",
            "_________________________________________________________________\n",
            "block5_conv2 (Conv2D)        (None, 7, 2, 512)         2359808   \n",
            "_________________________________________________________________\n",
            "block5_conv3 (Conv2D)        (None, 7, 2, 512)         2359808   \n",
            "_________________________________________________________________\n",
            "block5_pool (MaxPooling2D)   (None, 3, 1, 512)         0         \n",
            "_________________________________________________________________\n",
            "flatten_2 (Flatten)          (None, 1536)              0         \n",
            "_________________________________________________________________\n",
            "dense_5 (Dense)              (None, 124)               190588    \n",
            "_________________________________________________________________\n",
            "dense_6 (Dense)              (None, 62)                7750      \n",
            "_________________________________________________________________\n",
            "dense_7 (Dense)              (None, 32)                2016      \n",
            "_________________________________________________________________\n",
            "dense_8 (Dense)              (None, 12)                396       \n",
            "=================================================================\n",
            "Total params: 14,915,438\n",
            "Trainable params: 200,750\n",
            "Non-trainable params: 14,714,688\n",
            "_________________________________________________________________\n",
            "Epoch 1/10\n",
            " - 1s - loss: 2.5325 - accuracy: 0.0825 - val_loss: 2.4699 - val_accuracy: 0.0751\n",
            "Epoch 2/10\n",
            " - 1s - loss: 2.4892 - accuracy: 0.0883 - val_loss: 2.4840 - val_accuracy: 0.0809\n",
            "Epoch 3/10\n",
            " - 1s - loss: 2.4818 - accuracy: 0.0883 - val_loss: 2.4673 - val_accuracy: 0.0694\n",
            "Epoch 4/10\n",
            " - 1s - loss: 2.4748 - accuracy: 0.0897 - val_loss: 2.4566 - val_accuracy: 0.0983\n",
            "Epoch 5/10\n",
            " - 1s - loss: 2.4708 - accuracy: 0.1056 - val_loss: 2.4443 - val_accuracy: 0.0925\n",
            "Epoch 6/10\n",
            " - 1s - loss: 2.4657 - accuracy: 0.1071 - val_loss: 2.4733 - val_accuracy: 0.1329\n",
            "Epoch 7/10\n",
            " - 1s - loss: 2.4609 - accuracy: 0.1418 - val_loss: 2.4701 - val_accuracy: 0.1040\n",
            "Epoch 8/10\n",
            " - 1s - loss: 2.4565 - accuracy: 0.1129 - val_loss: 2.4586 - val_accuracy: 0.1098\n",
            "Epoch 9/10\n",
            " - 1s - loss: 2.4513 - accuracy: 0.1331 - val_loss: 2.5234 - val_accuracy: 0.0751\n",
            "Epoch 10/10\n",
            " - 1s - loss: 2.4459 - accuracy: 0.1259 - val_loss: 2.5298 - val_accuracy: 0.1040\n",
            "6/6 [==============================] - 0s 40ms/step\n"
          ],
          "name": "stdout"
        },
        {
          "output_type": "execute_result",
          "data": {
            "text/plain": [
              "array([[ 0,  0,  0,  0,  0,  9,  0,  1,  3,  0,  0,  0,  1],\n",
              "       [ 0,  0,  0,  0,  0,  9,  0,  0,  5,  0,  0,  0,  1],\n",
              "       [ 0,  0,  0,  1,  0,  8,  0,  0,  4,  0,  0,  1,  1],\n",
              "       [ 0,  0,  0,  0,  1,  9,  0,  0,  1,  0,  0,  0,  3],\n",
              "       [ 0,  0,  0,  1,  0, 11,  0,  0,  2,  0,  0,  0,  1],\n",
              "       [ 0,  0,  1,  0,  0, 10,  0,  0,  1,  0,  0,  2,  0],\n",
              "       [ 0,  0,  0,  2,  0,  6,  0,  0,  3,  1,  1,  0,  2],\n",
              "       [ 0,  0,  1,  1,  0,  7,  0,  0,  3,  0,  0,  1,  1],\n",
              "       [ 0,  0,  0,  2,  0,  7,  0,  0,  2,  0,  1,  1,  1],\n",
              "       [ 0,  0,  1,  1,  0,  6,  0,  0,  1,  1,  2,  1,  1],\n",
              "       [ 0,  0,  0,  1,  0,  8,  0,  0,  1,  0,  0,  0,  4],\n",
              "       [ 0,  0,  2,  1,  0,  6,  0,  0,  1,  0,  1,  1,  3],\n",
              "       [ 0,  0,  0,  0,  0,  0,  0,  0,  0,  0,  0,  0,  0]])"
            ]
          },
          "metadata": {
            "tags": []
          },
          "execution_count": 16
        }
      ]
    },
    {
      "cell_type": "markdown",
      "metadata": {
        "id": "8ZNeMdUGagXo",
        "colab_type": "text"
      },
      "source": [
        "2 classes"
      ]
    },
    {
      "cell_type": "code",
      "metadata": {
        "id": "dk-4PPpRaixN",
        "colab_type": "code",
        "colab": {
          "base_uri": "https://localhost:8080/",
          "height": 1000
        },
        "outputId": "72652e64-6952-4bed-e446-83734f824445"
      },
      "source": [
        " mat = loadmat('S10.mat')\n",
        "X = np.array(mat[\"X_2D\"])\n",
        "y = np.array(mat[\"exemplarLabels\"]).ravel()\n",
        "\n",
        "y_bin =[]\n",
        "X_bin = []\n",
        "for i in range(0,len(X)):\n",
        "    if (12 < y[i] < 25):\n",
        "        y_bin.append(0) # 0 for hf\n",
        "        X_bin.append(X[i])\n",
        "    elif (60 < y[i]): # 1 for inanimate\n",
        "        y_bin.append(1)\n",
        "        X_bin.append(X[i])\n",
        "\n",
        "X_bin = np.array(X_bin)\n",
        "y_bin = np.array(y_bin).ravel()\n",
        "\n",
        "\n",
        "X_training = X_bin[:int(0.8*len(X_bin))]\n",
        "X_validation = X_bin[int(0.8*len(X_bin)):]\n",
        "\n",
        "X_training = np.reshape(X_training, (-1, 124, 32, 1))\n",
        "X_validation = np.reshape(X_validation, (-1, 124, 32, 1))\n",
        "\n",
        "y_training = y_bin[:int(0.8*len(X_bin))]\n",
        "y_validation =y_bin[int(0.8*len(X_bin)):]\n",
        "\n",
        "num_classes = 2\n",
        "\n",
        "X_training_pad = np.zeros((X_training.shape[0], 124, 32, 3))\n",
        "\n",
        "X_training_pad[:X_training.shape[0],:X_training.shape[1],:X_training.shape[2]] = X_training \n",
        "\n",
        "X_validation_pad = np.zeros((X_validation.shape[0], 124, 32, 3))\n",
        "\n",
        "X_validation_pad[:X_validation.shape[0],:X_validation.shape[1],:X_validation.shape[2]] = X_validation\n",
        " \n",
        "traingen = keras.preprocessing.image.ImageDataGenerator().flow(X_training_pad,y_training)\n",
        "validgen =  keras.preprocessing.image.ImageDataGenerator().flow(X_validation_pad,y_validation)\n",
        "\n",
        "model = Sequential()\n",
        "\n",
        "for layer in vgg16_model.layers:\n",
        "  model.add(layer)\n",
        "\n",
        "model.layers.pop()\n",
        "\n",
        "for layer in model.layers:\n",
        "  layer.trainable = False\n",
        "\n",
        "model.add(Flatten())\n",
        "model.add(Dense(124,activation=\"relu\"))\n",
        "model.add(Dense(62,activation=\"relu\"))\n",
        "model.add(Dense(32,activation=\"relu\"))\n",
        "model.add(Dense(1,activation='sigmoid'))\n",
        "\n",
        "model.summary()\n",
        "\n",
        "model.compile(Nadam(lr=0.0001),loss=keras.losses.BinaryCrossentropy(),metrics=['accuracy'])\n",
        "\n",
        "with tf.device('/device:GPU:0'):\n",
        "  history = model.fit_generator(traingen,validation_data=validgen,epochs=20,verbose=2)\n",
        "\n",
        "y_validation_predictions = np.round(model.predict_generator(X_validation, verbose=1))\n",
        "cnf_matrix3 = confusion_matrix(y_validation, y_validation_predictions)\n",
        "\n"
      ],
      "execution_count": 20,
      "outputs": [
        {
          "output_type": "stream",
          "text": [
            "Model: \"sequential_5\"\n",
            "_________________________________________________________________\n",
            "Layer (type)                 Output Shape              Param #   \n",
            "=================================================================\n",
            "block1_conv1 (Conv2D)        (None, 124, 32, 64)       1792      \n",
            "_________________________________________________________________\n",
            "block1_conv2 (Conv2D)        (None, 124, 32, 64)       36928     \n",
            "_________________________________________________________________\n",
            "block1_pool (MaxPooling2D)   (None, 62, 16, 64)        0         \n",
            "_________________________________________________________________\n",
            "block2_conv1 (Conv2D)        (None, 62, 16, 128)       73856     \n",
            "_________________________________________________________________\n",
            "block2_conv2 (Conv2D)        (None, 62, 16, 128)       147584    \n",
            "_________________________________________________________________\n",
            "block2_pool (MaxPooling2D)   (None, 31, 8, 128)        0         \n",
            "_________________________________________________________________\n",
            "block3_conv1 (Conv2D)        (None, 31, 8, 256)        295168    \n",
            "_________________________________________________________________\n",
            "block3_conv2 (Conv2D)        (None, 31, 8, 256)        590080    \n",
            "_________________________________________________________________\n",
            "block3_conv3 (Conv2D)        (None, 31, 8, 256)        590080    \n",
            "_________________________________________________________________\n",
            "block3_pool (MaxPooling2D)   (None, 15, 4, 256)        0         \n",
            "_________________________________________________________________\n",
            "block4_conv1 (Conv2D)        (None, 15, 4, 512)        1180160   \n",
            "_________________________________________________________________\n",
            "block4_conv2 (Conv2D)        (None, 15, 4, 512)        2359808   \n",
            "_________________________________________________________________\n",
            "block4_conv3 (Conv2D)        (None, 15, 4, 512)        2359808   \n",
            "_________________________________________________________________\n",
            "block4_pool (MaxPooling2D)   (None, 7, 2, 512)         0         \n",
            "_________________________________________________________________\n",
            "block5_conv1 (Conv2D)        (None, 7, 2, 512)         2359808   \n",
            "_________________________________________________________________\n",
            "block5_conv2 (Conv2D)        (None, 7, 2, 512)         2359808   \n",
            "_________________________________________________________________\n",
            "block5_conv3 (Conv2D)        (None, 7, 2, 512)         2359808   \n",
            "_________________________________________________________________\n",
            "block5_pool (MaxPooling2D)   (None, 3, 1, 512)         0         \n",
            "_________________________________________________________________\n",
            "flatten_5 (Flatten)          (None, 1536)              0         \n",
            "_________________________________________________________________\n",
            "dense_17 (Dense)             (None, 124)               190588    \n",
            "_________________________________________________________________\n",
            "dense_18 (Dense)             (None, 62)                7750      \n",
            "_________________________________________________________________\n",
            "dense_19 (Dense)             (None, 32)                2016      \n",
            "_________________________________________________________________\n",
            "dense_20 (Dense)             (None, 1)                 33        \n",
            "=================================================================\n",
            "Total params: 14,915,075\n",
            "Trainable params: 200,387\n",
            "Non-trainable params: 14,714,688\n",
            "_________________________________________________________________\n",
            "Epoch 1/20\n",
            " - 2s - loss: 0.6953 - accuracy: 0.4747 - val_loss: 0.7130 - val_accuracy: 0.5145\n",
            "Epoch 2/20\n",
            " - 2s - loss: 0.6905 - accuracy: 0.5268 - val_loss: 0.7164 - val_accuracy: 0.5116\n",
            "Epoch 3/20\n",
            " - 2s - loss: 0.6864 - accuracy: 0.5557 - val_loss: 0.6594 - val_accuracy: 0.5376\n",
            "Epoch 4/20\n",
            " - 2s - loss: 0.6825 - accuracy: 0.5593 - val_loss: 0.7234 - val_accuracy: 0.4798\n",
            "Epoch 5/20\n",
            " - 2s - loss: 0.6798 - accuracy: 0.5745 - val_loss: 0.6933 - val_accuracy: 0.5058\n",
            "Epoch 6/20\n",
            " - 2s - loss: 0.6764 - accuracy: 0.5651 - val_loss: 0.6905 - val_accuracy: 0.4913\n",
            "Epoch 7/20\n",
            " - 2s - loss: 0.6748 - accuracy: 0.5948 - val_loss: 0.6812 - val_accuracy: 0.4798\n",
            "Epoch 8/20\n",
            " - 2s - loss: 0.6720 - accuracy: 0.5876 - val_loss: 0.7024 - val_accuracy: 0.5145\n",
            "Epoch 9/20\n",
            " - 2s - loss: 0.6664 - accuracy: 0.5919 - val_loss: 0.6534 - val_accuracy: 0.5029\n",
            "Epoch 10/20\n",
            " - 2s - loss: 0.6650 - accuracy: 0.6006 - val_loss: 0.6842 - val_accuracy: 0.5260\n",
            "Epoch 11/20\n",
            " - 2s - loss: 0.6633 - accuracy: 0.6056 - val_loss: 0.7159 - val_accuracy: 0.4855\n",
            "Epoch 12/20\n",
            " - 2s - loss: 0.6590 - accuracy: 0.5984 - val_loss: 0.6305 - val_accuracy: 0.5202\n",
            "Epoch 13/20\n",
            " - 2s - loss: 0.6550 - accuracy: 0.6201 - val_loss: 0.7041 - val_accuracy: 0.5347\n",
            "Epoch 14/20\n",
            " - 2s - loss: 0.6526 - accuracy: 0.6216 - val_loss: 0.7046 - val_accuracy: 0.5231\n",
            "Epoch 15/20\n",
            " - 2s - loss: 0.6511 - accuracy: 0.6295 - val_loss: 0.6828 - val_accuracy: 0.5491\n",
            "Epoch 16/20\n",
            " - 2s - loss: 0.6456 - accuracy: 0.6252 - val_loss: 0.7562 - val_accuracy: 0.5434\n",
            "Epoch 17/20\n",
            " - 2s - loss: 0.6416 - accuracy: 0.6302 - val_loss: 0.6803 - val_accuracy: 0.5231\n",
            "Epoch 18/20\n",
            " - 2s - loss: 0.6373 - accuracy: 0.6375 - val_loss: 0.7244 - val_accuracy: 0.5434\n",
            "Epoch 19/20\n",
            " - 2s - loss: 0.6321 - accuracy: 0.6447 - val_loss: 0.7299 - val_accuracy: 0.5231\n",
            "Epoch 20/20\n",
            " - 2s - loss: 0.6289 - accuracy: 0.6317 - val_loss: 0.6555 - val_accuracy: 0.5462\n"
          ],
          "name": "stdout"
        },
        {
          "output_type": "error",
          "ename": "ValueError",
          "evalue": "ignored",
          "traceback": [
            "\u001b[0;31m---------------------------------------------------------------------------\u001b[0m",
            "\u001b[0;31mValueError\u001b[0m                                Traceback (most recent call last)",
            "\u001b[0;32m<ipython-input-20-247d46d87669>\u001b[0m in \u001b[0;36m<module>\u001b[0;34m()\u001b[0m\n\u001b[1;32m     62\u001b[0m  \u001b[0mhistory\u001b[0m \u001b[0;34m=\u001b[0m \u001b[0mmodel\u001b[0m\u001b[0;34m.\u001b[0m\u001b[0mfit_generator\u001b[0m\u001b[0;34m(\u001b[0m\u001b[0mtraingen\u001b[0m\u001b[0;34m,\u001b[0m\u001b[0mvalidation_data\u001b[0m\u001b[0;34m=\u001b[0m\u001b[0mvalidgen\u001b[0m\u001b[0;34m,\u001b[0m\u001b[0mepochs\u001b[0m\u001b[0;34m=\u001b[0m\u001b[0;36m20\u001b[0m\u001b[0;34m,\u001b[0m\u001b[0mverbose\u001b[0m\u001b[0;34m=\u001b[0m\u001b[0;36m2\u001b[0m\u001b[0;34m)\u001b[0m\u001b[0;34m\u001b[0m\u001b[0;34m\u001b[0m\u001b[0m\n\u001b[1;32m     63\u001b[0m \u001b[0;34m\u001b[0m\u001b[0m\n\u001b[0;32m---> 64\u001b[0;31m \u001b[0my_validation_predictions\u001b[0m \u001b[0;34m=\u001b[0m \u001b[0mnp\u001b[0m\u001b[0;34m.\u001b[0m\u001b[0mround\u001b[0m\u001b[0;34m(\u001b[0m\u001b[0mmodel\u001b[0m\u001b[0;34m.\u001b[0m\u001b[0mpredict_generator\u001b[0m\u001b[0;34m(\u001b[0m\u001b[0mX_validation\u001b[0m\u001b[0;34m,\u001b[0m \u001b[0mverbose\u001b[0m\u001b[0;34m=\u001b[0m\u001b[0;36m1\u001b[0m\u001b[0;34m)\u001b[0m\u001b[0;34m)\u001b[0m\u001b[0;34m\u001b[0m\u001b[0;34m\u001b[0m\u001b[0m\n\u001b[0m\u001b[1;32m     65\u001b[0m \u001b[0mcnf_matrix3\u001b[0m \u001b[0;34m=\u001b[0m \u001b[0mconfusion_matrix\u001b[0m\u001b[0;34m(\u001b[0m\u001b[0my_validation\u001b[0m\u001b[0;34m,\u001b[0m \u001b[0my_validation_predictions\u001b[0m\u001b[0;34m)\u001b[0m\u001b[0;34m\u001b[0m\u001b[0;34m\u001b[0m\u001b[0m\n\u001b[1;32m     66\u001b[0m \u001b[0;34m\u001b[0m\u001b[0m\n",
            "\u001b[0;32m/usr/local/lib/python3.6/dist-packages/keras/legacy/interfaces.py\u001b[0m in \u001b[0;36mwrapper\u001b[0;34m(*args, **kwargs)\u001b[0m\n\u001b[1;32m     89\u001b[0m                 warnings.warn('Update your `' + object_name + '` call to the ' +\n\u001b[1;32m     90\u001b[0m                               'Keras 2 API: ' + signature, stacklevel=2)\n\u001b[0;32m---> 91\u001b[0;31m             \u001b[0;32mreturn\u001b[0m \u001b[0mfunc\u001b[0m\u001b[0;34m(\u001b[0m\u001b[0;34m*\u001b[0m\u001b[0margs\u001b[0m\u001b[0;34m,\u001b[0m \u001b[0;34m**\u001b[0m\u001b[0mkwargs\u001b[0m\u001b[0;34m)\u001b[0m\u001b[0;34m\u001b[0m\u001b[0;34m\u001b[0m\u001b[0m\n\u001b[0m\u001b[1;32m     92\u001b[0m         \u001b[0mwrapper\u001b[0m\u001b[0;34m.\u001b[0m\u001b[0m_original_function\u001b[0m \u001b[0;34m=\u001b[0m \u001b[0mfunc\u001b[0m\u001b[0;34m\u001b[0m\u001b[0;34m\u001b[0m\u001b[0m\n\u001b[1;32m     93\u001b[0m         \u001b[0;32mreturn\u001b[0m \u001b[0mwrapper\u001b[0m\u001b[0;34m\u001b[0m\u001b[0;34m\u001b[0m\u001b[0m\n",
            "\u001b[0;32m/usr/local/lib/python3.6/dist-packages/keras/engine/training.py\u001b[0m in \u001b[0;36mpredict_generator\u001b[0;34m(self, generator, steps, callbacks, max_queue_size, workers, use_multiprocessing, verbose)\u001b[0m\n\u001b[1;32m   1844\u001b[0m             \u001b[0mworkers\u001b[0m\u001b[0;34m=\u001b[0m\u001b[0mworkers\u001b[0m\u001b[0;34m,\u001b[0m\u001b[0;34m\u001b[0m\u001b[0;34m\u001b[0m\u001b[0m\n\u001b[1;32m   1845\u001b[0m             \u001b[0muse_multiprocessing\u001b[0m\u001b[0;34m=\u001b[0m\u001b[0muse_multiprocessing\u001b[0m\u001b[0;34m,\u001b[0m\u001b[0;34m\u001b[0m\u001b[0;34m\u001b[0m\u001b[0m\n\u001b[0;32m-> 1846\u001b[0;31m             verbose=verbose)\n\u001b[0m\u001b[1;32m   1847\u001b[0m \u001b[0;34m\u001b[0m\u001b[0m\n\u001b[1;32m   1848\u001b[0m \u001b[0;34m\u001b[0m\u001b[0m\n",
            "\u001b[0;32m/usr/local/lib/python3.6/dist-packages/keras/engine/training_generator.py\u001b[0m in \u001b[0;36mpredict_generator\u001b[0;34m(model, generator, steps, callbacks, max_queue_size, workers, use_multiprocessing, verbose)\u001b[0m\n\u001b[1;32m    447\u001b[0m             \u001b[0msteps\u001b[0m \u001b[0;34m=\u001b[0m \u001b[0mlen\u001b[0m\u001b[0;34m(\u001b[0m\u001b[0mgenerator\u001b[0m\u001b[0;34m)\u001b[0m\u001b[0;34m\u001b[0m\u001b[0;34m\u001b[0m\u001b[0m\n\u001b[1;32m    448\u001b[0m         \u001b[0;32melse\u001b[0m\u001b[0;34m:\u001b[0m\u001b[0;34m\u001b[0m\u001b[0;34m\u001b[0m\u001b[0m\n\u001b[0;32m--> 449\u001b[0;31m             raise ValueError('`steps=None` is only valid for a generator'\n\u001b[0m\u001b[1;32m    450\u001b[0m                              \u001b[0;34m' based on the `keras.utils.Sequence` class.'\u001b[0m\u001b[0;34m\u001b[0m\u001b[0;34m\u001b[0m\u001b[0m\n\u001b[1;32m    451\u001b[0m                              \u001b[0;34m' Please specify `steps` or use the'\u001b[0m\u001b[0;34m\u001b[0m\u001b[0;34m\u001b[0m\u001b[0m\n",
            "\u001b[0;31mValueError\u001b[0m: `steps=None` is only valid for a generator based on the `keras.utils.Sequence` class. Please specify `steps` or use the `keras.utils.Sequence` class."
          ]
        }
      ]
    },
    {
      "cell_type": "code",
      "metadata": {
        "id": "hA2js46YcCIs",
        "colab_type": "code",
        "colab": {
          "base_uri": "https://localhost:8080/",
          "height": 35
        },
        "outputId": "694f12b9-cfce-4e7a-817c-2dec195dd8ad"
      },
      "source": [
        "y_validation_predictions = np.round(model.predict_generator(validgen, verbose=1)) \n",
        "cnf_matrix3 = confusion_matrix(y_validation, y_validation_predictions)"
      ],
      "execution_count": 21,
      "outputs": [
        {
          "output_type": "stream",
          "text": [
            "11/11 [==============================] - 1s 48ms/step\n"
          ],
          "name": "stdout"
        }
      ]
    },
    {
      "cell_type": "code",
      "metadata": {
        "id": "3SbrY9Lka7dA",
        "colab_type": "code",
        "colab": {
          "base_uri": "https://localhost:8080/",
          "height": 53
        },
        "outputId": "7ecacc17-47e5-422b-8d6d-9aa6a3f4a829"
      },
      "source": [
        "cnf_matrix3"
      ],
      "execution_count": 22,
      "outputs": [
        {
          "output_type": "execute_result",
          "data": {
            "text/plain": [
              "array([[96, 78],\n",
              "       [97, 75]])"
            ]
          },
          "metadata": {
            "tags": []
          },
          "execution_count": 22
        }
      ]
    },
    {
      "cell_type": "markdown",
      "metadata": {
        "id": "J1fDx9-EcKn2",
        "colab_type": "text"
      },
      "source": [
        "72 classes"
      ]
    },
    {
      "cell_type": "code",
      "metadata": {
        "id": "3kFk9mLLcGEn",
        "colab_type": "code",
        "colab": {
          "base_uri": "https://localhost:8080/",
          "height": 1000
        },
        "outputId": "c402e227-5deb-4210-e4fb-1ad1a2b6f07a"
      },
      "source": [
        "mat = loadmat('S10.mat')\n",
        "X_2D = np.array(mat[\"X_2D\"])\n",
        "\n",
        "\n",
        "X = X_2D\n",
        "#get labels\n",
        "y = np.array(mat[\"exemplarLabels\"]).ravel()\n",
        "\n",
        "X_training = X[:int(0.8*len(X))]\n",
        "X_validation = X[int(0.8*len(X)):]\n",
        "\n",
        "y_training = y[:int(0.8*len(X))]\n",
        "y_validation = y[int(0.8*len(X)):]\n",
        "\n",
        "num_classes = 72\n",
        "y_training1hot = keras.utils.to_categorical(y_training - 1, num_classes) # We subtract 1 to convert to 0-index\n",
        "y_validation1hot = keras.utils.to_categorical(y_validation - 1, num_classes)\n",
        "\n",
        "X_training = np.reshape(X_training, (-1, electrodes, N, 1))\n",
        "X_validation = np.reshape(X_validation, (-1, electrodes, N, 1))\n",
        "\n",
        "num_classes = 72\n",
        "\n",
        "X_training_pad = np.zeros((X_training.shape[0], 124, 32, 3))\n",
        "\n",
        "X_training_pad[:X_training.shape[0],:X_training.shape[1],:X_training.shape[2]] = X_training \n",
        "\n",
        "X_validation_pad = np.zeros((X_validation.shape[0], 124, 32, 3))\n",
        "\n",
        "X_validation_pad[:X_validation.shape[0],:X_validation.shape[1],:X_validation.shape[2]] = X_validation\n",
        " \n",
        "traingen = keras.preprocessing.image.ImageDataGenerator().flow(X_training_pad,y_training1hot)\n",
        "validgen =  keras.preprocessing.image.ImageDataGenerator().flow(X_validation_pad,y_validation1hot)\n",
        "\n",
        "\n",
        "model = Sequential()\n",
        "\n",
        "for layer in vgg16_model.layers:\n",
        "  model.add(layer)\n",
        "\n",
        "model.layers.pop()\n",
        "\n",
        "for layer in model.layers:\n",
        "  layer.trainable = False\n",
        "\n",
        "model.add(Flatten())\n",
        "model.add(Dense(124,activation=\"relu\"))\n",
        "model.add(Dense(124,activation=\"relu\"))\n",
        "model.add(Dense(124,activation=\"relu\"))\n",
        "model.add(Dense(72,activation='sigmoid'))\n",
        "\n",
        "model.summary()\n",
        "\n",
        "model.compile(Nadam(lr=0.0001),loss=keras.losses.BinaryCrossentropy(),metrics=['accuracy'])\n",
        "\n",
        "with tf.device('/device:GPU:0'):\n",
        "  history = model.fit_generator(traingen,validation_data=validgen,epochs=20,verbose=2)\n",
        "\n",
        "y_validation_predictions = model.predict_generator(validgen, verbose=1)\n",
        "cnf_matrix4= confusion_matrix(y_validation-1, np.argmax(y_validation_predictions, axis=1))\n",
        "cnf_matrix4\n"
      ],
      "execution_count": 23,
      "outputs": [
        {
          "output_type": "stream",
          "text": [
            "Model: \"sequential_6\"\n",
            "_________________________________________________________________\n",
            "Layer (type)                 Output Shape              Param #   \n",
            "=================================================================\n",
            "block1_conv1 (Conv2D)        (None, 124, 32, 64)       1792      \n",
            "_________________________________________________________________\n",
            "block1_conv2 (Conv2D)        (None, 124, 32, 64)       36928     \n",
            "_________________________________________________________________\n",
            "block1_pool (MaxPooling2D)   (None, 62, 16, 64)        0         \n",
            "_________________________________________________________________\n",
            "block2_conv1 (Conv2D)        (None, 62, 16, 128)       73856     \n",
            "_________________________________________________________________\n",
            "block2_conv2 (Conv2D)        (None, 62, 16, 128)       147584    \n",
            "_________________________________________________________________\n",
            "block2_pool (MaxPooling2D)   (None, 31, 8, 128)        0         \n",
            "_________________________________________________________________\n",
            "block3_conv1 (Conv2D)        (None, 31, 8, 256)        295168    \n",
            "_________________________________________________________________\n",
            "block3_conv2 (Conv2D)        (None, 31, 8, 256)        590080    \n",
            "_________________________________________________________________\n",
            "block3_conv3 (Conv2D)        (None, 31, 8, 256)        590080    \n",
            "_________________________________________________________________\n",
            "block3_pool (MaxPooling2D)   (None, 15, 4, 256)        0         \n",
            "_________________________________________________________________\n",
            "block4_conv1 (Conv2D)        (None, 15, 4, 512)        1180160   \n",
            "_________________________________________________________________\n",
            "block4_conv2 (Conv2D)        (None, 15, 4, 512)        2359808   \n",
            "_________________________________________________________________\n",
            "block4_conv3 (Conv2D)        (None, 15, 4, 512)        2359808   \n",
            "_________________________________________________________________\n",
            "block4_pool (MaxPooling2D)   (None, 7, 2, 512)         0         \n",
            "_________________________________________________________________\n",
            "block5_conv1 (Conv2D)        (None, 7, 2, 512)         2359808   \n",
            "_________________________________________________________________\n",
            "block5_conv2 (Conv2D)        (None, 7, 2, 512)         2359808   \n",
            "_________________________________________________________________\n",
            "block5_conv3 (Conv2D)        (None, 7, 2, 512)         2359808   \n",
            "_________________________________________________________________\n",
            "block5_pool (MaxPooling2D)   (None, 3, 1, 512)         0         \n",
            "_________________________________________________________________\n",
            "flatten_6 (Flatten)          (None, 1536)              0         \n",
            "_________________________________________________________________\n",
            "dense_21 (Dense)             (None, 124)               190588    \n",
            "_________________________________________________________________\n",
            "dense_22 (Dense)             (None, 124)               15500     \n",
            "_________________________________________________________________\n",
            "dense_23 (Dense)             (None, 124)               15500     \n",
            "_________________________________________________________________\n",
            "dense_24 (Dense)             (None, 72)                9000      \n",
            "=================================================================\n",
            "Total params: 14,945,276\n",
            "Trainable params: 230,588\n",
            "Non-trainable params: 14,714,688\n",
            "_________________________________________________________________\n",
            "Epoch 1/20\n",
            " - 7s - loss: 0.3472 - accuracy: 0.8663 - val_loss: 0.0863 - val_accuracy: 0.9861\n",
            "Epoch 2/20\n",
            " - 6s - loss: 0.0778 - accuracy: 0.9861 - val_loss: 0.0754 - val_accuracy: 0.9861\n",
            "Epoch 3/20\n",
            " - 6s - loss: 0.0745 - accuracy: 0.9861 - val_loss: 0.0732 - val_accuracy: 0.9861\n",
            "Epoch 4/20\n",
            " - 6s - loss: 0.0739 - accuracy: 0.9861 - val_loss: 0.0733 - val_accuracy: 0.9861\n",
            "Epoch 5/20\n",
            " - 6s - loss: 0.0737 - accuracy: 0.9861 - val_loss: 0.0735 - val_accuracy: 0.9861\n",
            "Epoch 6/20\n",
            " - 6s - loss: 0.0737 - accuracy: 0.9861 - val_loss: 0.0743 - val_accuracy: 0.9861\n",
            "Epoch 7/20\n",
            " - 6s - loss: 0.0736 - accuracy: 0.9861 - val_loss: 0.0742 - val_accuracy: 0.9861\n",
            "Epoch 8/20\n",
            " - 6s - loss: 0.0735 - accuracy: 0.9861 - val_loss: 0.0732 - val_accuracy: 0.9861\n",
            "Epoch 9/20\n",
            " - 6s - loss: 0.0734 - accuracy: 0.9861 - val_loss: 0.0741 - val_accuracy: 0.9861\n",
            "Epoch 10/20\n",
            " - 6s - loss: 0.0734 - accuracy: 0.9861 - val_loss: 0.0734 - val_accuracy: 0.9861\n",
            "Epoch 11/20\n",
            " - 6s - loss: 0.0733 - accuracy: 0.9861 - val_loss: 0.0732 - val_accuracy: 0.9861\n",
            "Epoch 12/20\n",
            " - 6s - loss: 0.0733 - accuracy: 0.9861 - val_loss: 0.0728 - val_accuracy: 0.9861\n",
            "Epoch 13/20\n",
            " - 6s - loss: 0.0732 - accuracy: 0.9861 - val_loss: 0.0730 - val_accuracy: 0.9861\n",
            "Epoch 14/20\n",
            " - 6s - loss: 0.0732 - accuracy: 0.9861 - val_loss: 0.0732 - val_accuracy: 0.9861\n",
            "Epoch 15/20\n",
            " - 6s - loss: 0.0731 - accuracy: 0.9861 - val_loss: 0.0735 - val_accuracy: 0.9861\n",
            "Epoch 16/20\n",
            " - 6s - loss: 0.0731 - accuracy: 0.9861 - val_loss: 0.0732 - val_accuracy: 0.9861\n",
            "Epoch 17/20\n",
            " - 6s - loss: 0.0730 - accuracy: 0.9861 - val_loss: 0.0730 - val_accuracy: 0.9861\n",
            "Epoch 18/20\n",
            " - 6s - loss: 0.0730 - accuracy: 0.9861 - val_loss: 0.0740 - val_accuracy: 0.9861\n",
            "Epoch 19/20\n",
            " - 6s - loss: 0.0729 - accuracy: 0.9861 - val_loss: 0.0740 - val_accuracy: 0.9861\n",
            "Epoch 20/20\n",
            " - 6s - loss: 0.0729 - accuracy: 0.9861 - val_loss: 0.0741 - val_accuracy: 0.9861\n",
            "33/33 [==============================] - 1s 37ms/step\n"
          ],
          "name": "stdout"
        },
        {
          "output_type": "execute_result",
          "data": {
            "text/plain": [
              "array([[0, 0, 0, ..., 0, 0, 0],\n",
              "       [0, 0, 0, ..., 0, 0, 0],\n",
              "       [0, 0, 0, ..., 0, 0, 0],\n",
              "       ...,\n",
              "       [0, 0, 0, ..., 0, 0, 0],\n",
              "       [0, 0, 0, ..., 0, 0, 0],\n",
              "       [0, 0, 0, ..., 0, 0, 0]])"
            ]
          },
          "metadata": {
            "tags": []
          },
          "execution_count": 23
        }
      ]
    },
    {
      "cell_type": "code",
      "metadata": {
        "id": "MGj3mNX4cp42",
        "colab_type": "code",
        "colab": {
          "base_uri": "https://localhost:8080/",
          "height": 35
        },
        "outputId": "b8d0c33b-4304-46a1-f1b9-a33a690935da"
      },
      "source": [
        "np.argmax(y_validation_predictions, axis=1)"
      ],
      "execution_count": 24,
      "outputs": [
        {
          "output_type": "execute_result",
          "data": {
            "text/plain": [
              "array([ 8, 54, 25, ..., 32, 54, 32])"
            ]
          },
          "metadata": {
            "tags": []
          },
          "execution_count": 24
        }
      ]
    },
    {
      "cell_type": "code",
      "metadata": {
        "id": "5tn8DyTkdqa3",
        "colab_type": "code",
        "colab": {
          "base_uri": "https://localhost:8080/",
          "height": 35
        },
        "outputId": "d4c7d6ed-eb0f-466d-ecff-3154b6cc9a7f"
      },
      "source": [
        "y_validation"
      ],
      "execution_count": 25,
      "outputs": [
        {
          "output_type": "execute_result",
          "data": {
            "text/plain": [
              "array([42, 29,  7, ..., 71, 45, 63], dtype=uint8)"
            ]
          },
          "metadata": {
            "tags": []
          },
          "execution_count": 25
        }
      ]
    },
    {
      "cell_type": "code",
      "metadata": {
        "id": "sINKqMhPdr8h",
        "colab_type": "code",
        "colab": {
          "base_uri": "https://localhost:8080/",
          "height": 143
        },
        "outputId": "25a6e16b-c191-4951-fd9a-f7819f49bada"
      },
      "source": [
        "cnf_matrix4"
      ],
      "execution_count": 26,
      "outputs": [
        {
          "output_type": "execute_result",
          "data": {
            "text/plain": [
              "array([[0, 0, 0, ..., 0, 0, 0],\n",
              "       [0, 0, 0, ..., 0, 0, 0],\n",
              "       [0, 0, 0, ..., 0, 0, 0],\n",
              "       ...,\n",
              "       [0, 0, 0, ..., 0, 0, 0],\n",
              "       [0, 0, 0, ..., 0, 0, 0],\n",
              "       [0, 0, 0, ..., 0, 0, 0]])"
            ]
          },
          "metadata": {
            "tags": []
          },
          "execution_count": 26
        }
      ]
    },
    {
      "cell_type": "code",
      "metadata": {
        "id": "Fol0Ajoxdw0y",
        "colab_type": "code",
        "colab": {
          "base_uri": "https://localhost:8080/",
          "height": 484
        },
        "outputId": "1fba4126-29b0-47e1-8b26-1430162892c4"
      },
      "source": [
        "##7##\n",
        "plt.figure(figsize=(10, 8))\n",
        "plt.imshow(cnf_matrix4, cmap='hot', interpolation='nearest')\n",
        "plt.show()"
      ],
      "execution_count": 27,
      "outputs": [
        {
          "output_type": "display_data",
          "data": {
            "image/png": "[encoded data removed]",
            "text/plain": [
              "<Figure size 720x576 with 1 Axes>"
            ]
          },
          "metadata": {
            "tags": [],
            "needs_background": "light"
          }
        }
      ]
    },
    {
      "cell_type": "code",
      "metadata": {
        "id": "buf623DGd2SH",
        "colab_type": "code",
        "colab": {
          "base_uri": "https://localhost:8080/",
          "height": 689
        },
        "outputId": "ca7d1b27-8416-4384-fd66-6246c26d9f4e"
      },
      "source": [
        "def plot_cm2(cm,n):\n",
        "    if n != 72:\n",
        "        fig = plt.figure(figsize=(6.5,6.5))\n",
        "        ax = fig.add_subplot()\n",
        "        plt.imshow(cm,cmap='Blues', interpolation='nearest')\n",
        "        plt.colorbar()\n",
        "        \n",
        "        loc = plticker.MultipleLocator(base=1.0)\n",
        "        ax.xaxis.set_major_locator(loc)\n",
        "        ax.yaxis.set_major_locator(loc)\n",
        "\n",
        "        if n == 6 :\n",
        "            ax.set_xticklabels([''] + [\"HB\", \"HF\", \"AB\", \"AF\", \"FV\", \"IO\"])\n",
        "            ax.set_yticklabels([''] + [\"HB\", \"HF\", \"AB\", \"AF\", \"FV\", \"IO\"])\n",
        "        elif n == 12 :\n",
        "            ax.set_xticklabels([''] + [\"1\", \"2\", \"3\", \"4\", \"5\", \"6\", \"7\", \"8\", \"9\", \"10\", \"11\", \"12\"])\n",
        "            ax.set_yticklabels([''] + [\"1\", \"2\", \"3\", \"4\", \"5\", \"6\", \"7\", \"8\", \"9\", \"10\", \"11\", \"12\"])\n",
        "        elif n == 2 :\n",
        "            ax.set_xticklabels([''] + [\"HF\", \"IO\"])\n",
        "            ax.set_yticklabels([''] + [\"HF\", \"IO\"])\n",
        "    \n",
        "        thresh = cm.max() / 2.\n",
        "        for i, j in itertools.product(range(cm.shape[0]), range(cm.shape[1])):\n",
        "            plt.text(j, i, cm[i, j], horizontalalignment=\"center\",color=\"white\" if cm[i, j] > thresh else \"black\");\n",
        "    \n",
        "    else:\n",
        "        fig = plt.figure(figsize=(12,12))\n",
        "        ax = fig.add_subplot()\n",
        "        plt.imshow(cm,cmap='Blues', interpolation='nearest')\n",
        "        plt.colorbar()\n",
        "            \n",
        "    plt.title(\"Confusion matrix\")\n",
        "    plt.ylabel('True')\n",
        "    plt.xlabel('Predicted')\n",
        "plot_cm2(np.round(cnf_matrix4, 2),72)"
      ],
      "execution_count": 28,
      "outputs": [
        {
          "output_type": "display_data",
          "data": {
            "image/png": "[encoded data removed]",
            "text/plain": [
              "<Figure size 864x864 with 2 Axes>"
            ]
          },
          "metadata": {
            "tags": [],
            "needs_background": "light"
          }
        }
      ]
    },
    {
      "cell_type": "code",
      "metadata": {
        "id": "iCh_aUfYeSGG",
        "colab_type": "code",
        "colab": {
          "base_uri": "https://localhost:8080/",
          "height": 1000
        },
        "outputId": "a8e0f560-a6c3-4b68-f326-4558c332ca92"
      },
      "source": [
        "##1##\n",
        "plt.figure()\n",
        "class_names = ['Human Body', 'Human Face', 'Animal Body', 'Animal Face', 'Fruit Vegetable', 'Inanimate Object']\n",
        "plot_confusion_matrix(cnf_matrix1, classes=class_names)\n",
        "\n",
        "\n",
        "##2##\n",
        "plt.figure(figsize=(4,2))\n",
        "class_names = ['HF', 'IN']\n",
        "plot_confusion_matrix(cnf_matrix3, classes=class_names)\n",
        "\n",
        "##3##\n",
        "plt.figure(figsize=(10,8))\n",
        "class_names = ['1', '2', '3', '4', '5', '6','7', '8', '9', '10', '11', '12']\n",
        "plot_confusion_matrix(cnf_matrix2, classes=class_names)"
      ],
      "execution_count": 30,
      "outputs": [
        {
          "output_type": "stream",
          "text": [
            "Normalized confusion matrix\n",
            "[[0.16763006 0.16184971 0.12138728 0.16763006 0.22543353 0.15606936]\n",
            " [0.15517241 0.10344828 0.12068966 0.22413793 0.18390805 0.21264368]\n",
            " [0.13872832 0.16763006 0.0867052  0.1849711  0.19075145 0.23121387]\n",
            " [0.16763006 0.16763006 0.10982659 0.19653179 0.16763006 0.19075145]\n",
            " [0.19186047 0.1627907  0.09883721 0.19186047 0.19186047 0.1627907 ]\n",
            " [0.16860465 0.15697674 0.13372093 0.15116279 0.21511628 0.1744186 ]]\n",
            "Normalized confusion matrix\n",
            "[[0.55172414 0.44827586]\n",
            " [0.56395349 0.43604651]]\n"
          ],
          "name": "stdout"
        },
        {
          "output_type": "stream",
          "text": [
            "/usr/local/lib/python3.6/dist-packages/ipykernel_launcher.py:10: RuntimeWarning: invalid value encountered in true_divide\n",
            "  # Remove the CWD from sys.path while we load stuff.\n"
          ],
          "name": "stderr"
        },
        {
          "output_type": "stream",
          "text": [
            "Normalized confusion matrix\n",
            "[[0.         0.         0.         0.         0.         0.64285714\n",
            "  0.         0.07142857 0.21428571 0.         0.         0.\n",
            "  0.07142857]\n",
            " [0.         0.         0.         0.         0.         0.6\n",
            "  0.         0.         0.33333333 0.         0.         0.\n",
            "  0.06666667]\n",
            " [0.         0.         0.         0.06666667 0.         0.53333333\n",
            "  0.         0.         0.26666667 0.         0.         0.06666667\n",
            "  0.06666667]\n",
            " [0.         0.         0.         0.         0.07142857 0.64285714\n",
            "  0.         0.         0.07142857 0.         0.         0.\n",
            "  0.21428571]\n",
            " [0.         0.         0.         0.06666667 0.         0.73333333\n",
            "  0.         0.         0.13333333 0.         0.         0.\n",
            "  0.06666667]\n",
            " [0.         0.         0.07142857 0.         0.         0.71428571\n",
            "  0.         0.         0.07142857 0.         0.         0.14285714\n",
            "  0.        ]\n",
            " [0.         0.         0.         0.13333333 0.         0.4\n",
            "  0.         0.         0.2        0.06666667 0.06666667 0.\n",
            "  0.13333333]\n",
            " [0.         0.         0.07142857 0.07142857 0.         0.5\n",
            "  0.         0.         0.21428571 0.         0.         0.07142857\n",
            "  0.07142857]\n",
            " [0.         0.         0.         0.14285714 0.         0.5\n",
            "  0.         0.         0.14285714 0.         0.07142857 0.07142857\n",
            "  0.07142857]\n",
            " [0.         0.         0.07142857 0.07142857 0.         0.42857143\n",
            "  0.         0.         0.07142857 0.07142857 0.14285714 0.07142857\n",
            "  0.07142857]\n",
            " [0.         0.         0.         0.07142857 0.         0.57142857\n",
            "  0.         0.         0.07142857 0.         0.         0.\n",
            "  0.28571429]\n",
            " [0.         0.         0.13333333 0.06666667 0.         0.4\n",
            "  0.         0.         0.06666667 0.         0.06666667 0.06666667\n",
            "  0.2       ]\n",
            " [       nan        nan        nan        nan        nan        nan\n",
            "         nan        nan        nan        nan        nan        nan\n",
            "         nan]]\n"
          ],
          "name": "stdout"
        },
        {
          "output_type": "display_data",
          "data": {
            "image/png": "[encoded data removed]",
            "text/plain": [
              "<Figure size 432x288 with 2 Axes>"
            ]
          },
          "metadata": {
            "tags": [],
            "needs_background": "light"
          }
        },
        {
          "output_type": "display_data",
          "data": {
            "image/png": "[encoded data removed]",
            "text/plain": [
              "<Figure size 288x144 with 2 Axes>"
            ]
          },
          "metadata": {
            "tags": [],
            "needs_background": "light"
          }
        },
        {
          "output_type": "display_data",
          "data": {
            "image/png": "[encoded data removed]",
            "text/plain": [
              "<Figure size 720x576 with 2 Axes>"
            ]
          },
          "metadata": {
            "tags": [],
            "needs_background": "light"
          }
        }
      ]
    },
    {
      "cell_type": "code",
      "metadata": {
        "id": "xkjEBYHxfIgl",
        "colab_type": "code",
        "colab": {}
      },
      "source": [
        ""
      ],
      "execution_count": null,
      "outputs": []
    }
  ]
}